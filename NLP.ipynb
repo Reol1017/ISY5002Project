{
 "cells": [
  {
   "cell_type": "code",
   "execution_count": 2,
   "metadata": {},
   "outputs": [],
   "source": [
    "import pandas as pd\n",
    "import re #re stands for the regular expression module, which provides a set of tools for matching and manipulating text patterns.\n",
    "import spacy"
   ]
  },
  {
   "cell_type": "code",
   "execution_count": 5,
   "metadata": {},
   "outputs": [],
   "source": [
    "nlp = spacy.load(\"en_core_web_sm\")"
   ]
  },
  {
   "cell_type": "code",
   "execution_count": 6,
   "metadata": {},
   "outputs": [
    {
     "data": {
      "text/html": [
       "<div>\n",
       "<style scoped>\n",
       "    .dataframe tbody tr th:only-of-type {\n",
       "        vertical-align: middle;\n",
       "    }\n",
       "\n",
       "    .dataframe tbody tr th {\n",
       "        vertical-align: top;\n",
       "    }\n",
       "\n",
       "    .dataframe thead th {\n",
       "        text-align: right;\n",
       "    }\n",
       "</style>\n",
       "<table border=\"1\" class=\"dataframe\">\n",
       "  <thead>\n",
       "    <tr style=\"text-align: right;\">\n",
       "      <th></th>\n",
       "      <th>ROWNUM</th>\n",
       "      <th>Hospital</th>\n",
       "      <th>Eligibility Class</th>\n",
       "      <th>Gender</th>\n",
       "      <th>Arrival Time</th>\n",
       "      <th>Severity Level</th>\n",
       "      <th>Deparment</th>\n",
       "      <th>Main Diagnosis</th>\n",
       "      <th>Discharge Time</th>\n",
       "      <th>Waiting Time (Minutes)</th>\n",
       "      <th>Length of Stay (Minutes)</th>\n",
       "      <th>Treatment Time(Minutes)</th>\n",
       "      <th>Cluster</th>\n",
       "      <th>No Treatment</th>\n",
       "    </tr>\n",
       "  </thead>\n",
       "  <tbody>\n",
       "    <tr>\n",
       "      <th>0</th>\n",
       "      <td>1</td>\n",
       "      <td>Royal Commission Health Services Program</td>\n",
       "      <td>ROYAL COMMISSION</td>\n",
       "      <td>Female</td>\n",
       "      <td>2023-12-13 13:17:48</td>\n",
       "      <td>Level Ⅳ</td>\n",
       "      <td>Emergency Medicine</td>\n",
       "      <td>Pain, unspecified</td>\n",
       "      <td>2023-12-13 16:43:00</td>\n",
       "      <td>14.0</td>\n",
       "      <td>205.0</td>\n",
       "      <td>191.0</td>\n",
       "      <td>2</td>\n",
       "      <td>0</td>\n",
       "    </tr>\n",
       "    <tr>\n",
       "      <th>1</th>\n",
       "      <td>2</td>\n",
       "      <td>Royal Commission Health Services Program</td>\n",
       "      <td>ROYAL COMMISSION</td>\n",
       "      <td>Female</td>\n",
       "      <td>2023-12-08 10:59:28</td>\n",
       "      <td>Level Ⅲ</td>\n",
       "      <td>Emergency Medicine</td>\n",
       "      <td>Low back pain</td>\n",
       "      <td>2023-12-08 12:50:00</td>\n",
       "      <td>7.0</td>\n",
       "      <td>111.0</td>\n",
       "      <td>104.0</td>\n",
       "      <td>1</td>\n",
       "      <td>0</td>\n",
       "    </tr>\n",
       "    <tr>\n",
       "      <th>2</th>\n",
       "      <td>3</td>\n",
       "      <td>Royal Commission Health Services Program</td>\n",
       "      <td>ROYAL COMMISSION</td>\n",
       "      <td>Female</td>\n",
       "      <td>2023-11-05 14:03:02</td>\n",
       "      <td>Level Ⅲ</td>\n",
       "      <td>Emergency Medicine</td>\n",
       "      <td>Acute upper respiratory infection, unspecified</td>\n",
       "      <td>2023-11-05 14:54:00</td>\n",
       "      <td>24.0</td>\n",
       "      <td>51.0</td>\n",
       "      <td>27.0</td>\n",
       "      <td>1</td>\n",
       "      <td>0</td>\n",
       "    </tr>\n",
       "    <tr>\n",
       "      <th>3</th>\n",
       "      <td>4</td>\n",
       "      <td>Royal Commission Health Services Program</td>\n",
       "      <td>ROYAL COMMISSION</td>\n",
       "      <td>Female</td>\n",
       "      <td>2023-10-07 22:57:41</td>\n",
       "      <td>Level Ⅲ</td>\n",
       "      <td>Emergency Medicine</td>\n",
       "      <td>Epistaxis</td>\n",
       "      <td>2023-10-08 00:09:00</td>\n",
       "      <td>26.0</td>\n",
       "      <td>71.0</td>\n",
       "      <td>0.0</td>\n",
       "      <td>1</td>\n",
       "      <td>1</td>\n",
       "    </tr>\n",
       "    <tr>\n",
       "      <th>4</th>\n",
       "      <td>5</td>\n",
       "      <td>Royal Commission Health Services Program</td>\n",
       "      <td>ROYAL COMMISSION</td>\n",
       "      <td>Female</td>\n",
       "      <td>2023-10-21 21:32:17</td>\n",
       "      <td>Level Ⅳ</td>\n",
       "      <td>Emergency Medicine</td>\n",
       "      <td>Acute upper respiratory infection, unspecified</td>\n",
       "      <td>2023-10-21 23:10:00</td>\n",
       "      <td>56.0</td>\n",
       "      <td>98.0</td>\n",
       "      <td>42.0</td>\n",
       "      <td>0</td>\n",
       "      <td>0</td>\n",
       "    </tr>\n",
       "  </tbody>\n",
       "</table>\n",
       "</div>"
      ],
      "text/plain": [
       "  ROWNUM                                  Hospital Eligibility Class  Gender  \\\n",
       "0      1  Royal Commission Health Services Program  ROYAL COMMISSION  Female   \n",
       "1      2  Royal Commission Health Services Program  ROYAL COMMISSION  Female   \n",
       "2      3  Royal Commission Health Services Program  ROYAL COMMISSION  Female   \n",
       "3      4  Royal Commission Health Services Program  ROYAL COMMISSION  Female   \n",
       "4      5  Royal Commission Health Services Program  ROYAL COMMISSION  Female   \n",
       "\n",
       "          Arrival Time Severity Level           Deparment  \\\n",
       "0  2023-12-13 13:17:48        Level Ⅳ  Emergency Medicine   \n",
       "1  2023-12-08 10:59:28        Level Ⅲ  Emergency Medicine   \n",
       "2  2023-11-05 14:03:02        Level Ⅲ  Emergency Medicine   \n",
       "3  2023-10-07 22:57:41        Level Ⅲ  Emergency Medicine   \n",
       "4  2023-10-21 21:32:17        Level Ⅳ  Emergency Medicine   \n",
       "\n",
       "                                   Main Diagnosis       Discharge Time  \\\n",
       "0                               Pain, unspecified  2023-12-13 16:43:00   \n",
       "1                                   Low back pain  2023-12-08 12:50:00   \n",
       "2  Acute upper respiratory infection, unspecified  2023-11-05 14:54:00   \n",
       "3                                       Epistaxis  2023-10-08 00:09:00   \n",
       "4  Acute upper respiratory infection, unspecified  2023-10-21 23:10:00   \n",
       "\n",
       "   Waiting Time (Minutes)  Length of Stay (Minutes)  Treatment Time(Minutes)  \\\n",
       "0                    14.0                     205.0                    191.0   \n",
       "1                     7.0                     111.0                    104.0   \n",
       "2                    24.0                      51.0                     27.0   \n",
       "3                    26.0                      71.0                      0.0   \n",
       "4                    56.0                      98.0                     42.0   \n",
       "\n",
       "   Cluster  No Treatment  \n",
       "0        2             0  \n",
       "1        1             0  \n",
       "2        1             0  \n",
       "3        1             1  \n",
       "4        0             0  "
      ]
     },
     "execution_count": 6,
     "metadata": {},
     "output_type": "execute_result"
    }
   ],
   "source": [
    "# Loading the dataset\n",
    "data = pd.read_csv('data_after_EDA.csv')\n",
    "# Print the first 5 rows of the dataframe.\n",
    "data.head()"
   ]
  },
  {
   "cell_type": "code",
   "execution_count": 7,
   "metadata": {},
   "outputs": [
    {
     "name": "stdout",
     "output_type": "stream",
     "text": [
      "0                                         pain unspecified\n",
      "1                                                back pain\n",
      "2                              upper respiratory infection\n",
      "3                                                epistaxis\n",
      "4                              upper respiratory infection\n",
      "                               ...                        \n",
      "97085                                   asthma unspecified\n",
      "97086                          upper respiratory infection\n",
      "97087                          upper respiratory infection\n",
      "97088    cutaneous abscess furuncle and carbuncle unspe...\n",
      "97089                          pain in limb multiple sites\n",
      "Name: Main Diagnosis, Length: 97090, dtype: object\n"
     ]
    }
   ],
   "source": [
    "\n",
    "df = pd.DataFrame(data, columns=['Main Diagnosis'])\n",
    "\n",
    "# Step 1: Lowercase all the entries in the 'Main Diagnosis' column\n",
    "df['Main Diagnosis'] = df['Main Diagnosis'].str.lower()\n",
    "\n",
    "# Step 2: Handle missing values by replacing NaN or empty strings with \"Unknown\"\n",
    "df['Main Diagnosis'] = df['Main Diagnosis'].fillna('Unknown')\n",
    "\n",
    "# Step 3: Remove punctuation or special characters from the diagnoses\n",
    "df['Main Diagnosis'] = df['Main Diagnosis'].apply(lambda x: re.sub(r'[^\\w\\s]', '', x))\n",
    "\n",
    "# Step 4: Standardize some common diagnoses (as an example)\n",
    "df['Main Diagnosis'] = df['Main Diagnosis'].replace({\n",
    "    'acute upper respiratory infection unspecified': 'upper respiratory infection',\n",
    "    'low back pain': 'back pain',\n",
    "   \n",
    "})\n",
    "\n",
    "print(df['Main Diagnosis'])\n",
    "\n"
   ]
  },
  {
   "cell_type": "code",
   "execution_count": 9,
   "metadata": {},
   "outputs": [],
   "source": [
    "from tqdm import tqdm\n",
    "import spacy # to visualiza the process"
   ]
  },
  {
   "cell_type": "code",
   "execution_count": 10,
   "metadata": {},
   "outputs": [
    {
     "name": "stderr",
     "output_type": "stream",
     "text": [
      "100%|██████████| 97090/97090 [09:14<00:00, 174.95it/s]"
     ]
    },
    {
     "name": "stdout",
     "output_type": "stream",
     "text": [
      "                                          Main Diagnosis  \\\n",
      "0                                       pain unspecified   \n",
      "1                                              back pain   \n",
      "2                            upper respiratory infection   \n",
      "3                                              epistaxis   \n",
      "4                            upper respiratory infection   \n",
      "...                                                  ...   \n",
      "97085                                 asthma unspecified   \n",
      "97086                        upper respiratory infection   \n",
      "97087                        upper respiratory infection   \n",
      "97088  cutaneous abscess furuncle and carbuncle unspe...   \n",
      "97089                        pain in limb multiple sites   \n",
      "\n",
      "                                   Main Diagnosis Tokens  \n",
      "0                                    [pain, unspecified]  \n",
      "1                                           [back, pain]  \n",
      "2                        [upper, respiratory, infection]  \n",
      "3                                            [epistaxis]  \n",
      "4                        [upper, respiratory, infection]  \n",
      "...                                                  ...  \n",
      "97085                              [asthma, unspecified]  \n",
      "97086                    [upper, respiratory, infection]  \n",
      "97087                    [upper, respiratory, infection]  \n",
      "97088  [cutaneous, abscess, furuncle, and, carbuncle,...  \n",
      "97089                  [pain, in, limb, multiple, sites]  \n",
      "\n",
      "[97090 rows x 2 columns]\n"
     ]
    },
    {
     "name": "stderr",
     "output_type": "stream",
     "text": [
      "\n"
     ]
    }
   ],
   "source": [
    "#Tokenizer\n",
    "# Function to apply spaCy processing and tokenize the Main Diagnosis column\n",
    "def spacy_tokenizer(text):\n",
    "    doc = nlp(text)\n",
    "    return [token.text for token in doc]\n",
    "\n",
    "# Apply spaCy tokenizer to the 'Main Diagnosis' column\n",
    "tqdm.pandas()  \n",
    "df['Main Diagnosis Tokens'] = df['Main Diagnosis'].progress_apply(lambda x: spacy_tokenizer(str(x).lower()))\n",
    "\n",
    "# Display the tokenized diagnosis column\n",
    "print(df[['Main Diagnosis', 'Main Diagnosis Tokens']])\n",
    "\n"
   ]
  },
  {
   "cell_type": "code",
   "execution_count": 46,
   "metadata": {},
   "outputs": [
    {
     "name": "stderr",
     "output_type": "stream",
     "text": [
      "Removing Stop Words: 100%|██████████| 97090/97090 [00:00<00:00, 454613.93it/s]"
     ]
    },
    {
     "name": "stdout",
     "output_type": "stream",
     "text": [
      "                                          Main Diagnosis  \\\n",
      "0                                    [pain, unspecified]   \n",
      "1                                                 [pain]   \n",
      "2                        [upper, respiratory, infection]   \n",
      "3                                            [epistaxis]   \n",
      "4                        [upper, respiratory, infection]   \n",
      "...                                                  ...   \n",
      "97085                              [asthma, unspecified]   \n",
      "97086                    [upper, respiratory, infection]   \n",
      "97087                    [upper, respiratory, infection]   \n",
      "97088  [cutaneous, abscess, furuncle, carbuncle, unsp...   \n",
      "97089                       [pain, limb, multiple, site]   \n",
      "\n",
      "                 Main Diagnosis Tokens Without Stopwords  \n",
      "0                                    [pain, unspecified]  \n",
      "1                                                 [pain]  \n",
      "2                        [upper, respiratory, infection]  \n",
      "3                                            [epistaxis]  \n",
      "4                        [upper, respiratory, infection]  \n",
      "...                                                  ...  \n",
      "97085                              [asthma, unspecified]  \n",
      "97086                    [upper, respiratory, infection]  \n",
      "97087                    [upper, respiratory, infection]  \n",
      "97088  [cutaneous, abscess, furuncle, carbuncle, unsp...  \n",
      "97089                      [pain, limb, multiple, sites]  \n",
      "\n",
      "[97090 rows x 2 columns]\n"
     ]
    },
    {
     "name": "stderr",
     "output_type": "stream",
     "text": [
      "\n"
     ]
    }
   ],
   "source": [
    "# Remove the stop words\n",
    "#  Load spaCy stop words\n",
    "stop_words = spacy.lang.en.stop_words.STOP_WORDS\n",
    "\n",
    "# Function to remove stop words from the tokens\n",
    "def remove_stop_words(tokens):\n",
    "    return [token for token in tokens if token not in stop_words]\n",
    "\n",
    "# Apply tqdm to monitor the process\n",
    "tqdm.pandas(desc=\"Removing Stop Words\")\n",
    "\n",
    "# Apply the stop word removal function with a progress bar\n",
    "df['Main Diagnosis Tokens Without Stopwords'] = df['Main Diagnosis Tokens'].progress_apply(remove_stop_words)\n",
    "\n",
    "# Display the updated tokenized diagnosis column without stop words\n",
    "print(df[['Main Diagnosis', 'Main Diagnosis Tokens Without Stopwords']])"
   ]
  },
  {
   "cell_type": "code",
   "execution_count": 47,
   "metadata": {},
   "outputs": [
    {
     "name": "stderr",
     "output_type": "stream",
     "text": [
      "Lemmatizing Tokens: 100%|██████████| 97090/97090 [09:00<00:00, 179.75it/s]"
     ]
    },
    {
     "name": "stdout",
     "output_type": "stream",
     "text": [
      "                                          Main Diagnosis  \\\n",
      "0                                    [pain, unspecified]   \n",
      "1                                                 [pain]   \n",
      "2                        [upper, respiratory, infection]   \n",
      "3                                            [epistaxis]   \n",
      "4                        [upper, respiratory, infection]   \n",
      "...                                                  ...   \n",
      "97085                              [asthma, unspecified]   \n",
      "97086                    [upper, respiratory, infection]   \n",
      "97087                    [upper, respiratory, infection]   \n",
      "97088  [cutaneous, abscess, furuncle, carbuncle, unsp...   \n",
      "97089                       [pain, limb, multiple, site]   \n",
      "\n",
      "                               Main Diagnosis Lemmatized  \n",
      "0                                    [pain, unspecified]  \n",
      "1                                                 [pain]  \n",
      "2                        [upper, respiratory, infection]  \n",
      "3                                            [epistaxis]  \n",
      "4                        [upper, respiratory, infection]  \n",
      "...                                                  ...  \n",
      "97085                              [asthma, unspecified]  \n",
      "97086                    [upper, respiratory, infection]  \n",
      "97087                    [upper, respiratory, infection]  \n",
      "97088  [cutaneous, abscess, furuncle, carbuncle, unsp...  \n",
      "97089                       [pain, limb, multiple, site]  \n",
      "\n",
      "[97090 rows x 2 columns]\n"
     ]
    },
    {
     "name": "stderr",
     "output_type": "stream",
     "text": [
      "\n"
     ]
    }
   ],
   "source": [
    "from tqdm import tqdm\n",
    "\n",
    "# Enable progress bar for pandas\n",
    "tqdm.pandas(desc=\"Lemmatizing Tokens\")\n",
    "\n",
    "# Function to apply spaCy lemmatization to tokens\n",
    "def lemmatize_tokens(tokens):\n",
    "    doc = nlp(\" \".join(tokens))  # Process the tokens into a single string\n",
    "    return [token.lemma_ for token in doc]  # Return the lemmatized tokens\n",
    "\n",
    "# Apply the lemmatization function with a progress bar\n",
    "df['Main Diagnosis Lemmatized'] = df['Main Diagnosis Tokens Without Stopwords'].progress_apply(lemmatize_tokens)\n",
    "\n",
    "# Display the lemmatized tokens\n",
    "print(df[['Main Diagnosis', 'Main Diagnosis Lemmatized']])\n"
   ]
  },
  {
   "cell_type": "code",
   "execution_count": 48,
   "metadata": {},
   "outputs": [
    {
     "name": "stdout",
     "output_type": "stream",
     "text": [
      "       1419  1500  2025  2029  2499  2633  3039  32  3437  37  ...  wheeze  \\\n",
      "0         0     0     0     0     0     0     0   0     0   0  ...       0   \n",
      "1         0     0     0     0     0     0     0   0     0   0  ...       0   \n",
      "2         0     0     0     0     0     0     0   0     0   0  ...       0   \n",
      "3         0     0     0     0     0     0     0   0     0   0  ...       0   \n",
      "4         0     0     0     0     0     0     0   0     0   0  ...       0   \n",
      "...     ...   ...   ...   ...   ...   ...   ...  ..   ...  ..  ...     ...   \n",
      "97085     0     0     0     0     0     0     0   0     0   0  ...       0   \n",
      "97086     0     0     0     0     0     0     0   0     0   0  ...       0   \n",
      "97087     0     0     0     0     0     0     0   0     0   0  ...       0   \n",
      "97088     0     0     0     0     0     0     0   0     0   0  ...       0   \n",
      "97089     0     0     0     0     0     0     0   0     0   0  ...       0   \n",
      "\n",
      "       willebrand  window  wound  wrist  xray  yaw  young  zoonotic  zoster  \n",
      "0               0       0      0      0     0    0      0         0       0  \n",
      "1               0       0      0      0     0    0      0         0       0  \n",
      "2               0       0      0      0     0    0      0         0       0  \n",
      "3               0       0      0      0     0    0      0         0       0  \n",
      "4               0       0      0      0     0    0      0         0       0  \n",
      "...           ...     ...    ...    ...   ...  ...    ...       ...     ...  \n",
      "97085           0       0      0      0     0    0      0         0       0  \n",
      "97086           0       0      0      0     0    0      0         0       0  \n",
      "97087           0       0      0      0     0    0      0         0       0  \n",
      "97088           0       0      0      0     0    0      0         0       0  \n",
      "97089           0       0      0      0     0    0      0         0       0  \n",
      "\n",
      "[97090 rows x 1554 columns]\n"
     ]
    }
   ],
   "source": [
    "from sklearn.feature_extraction.text import CountVectorizer\n",
    "\n",
    "# Join the lemmatized tokens back into strings\n",
    "df['Main Diagnosis Lemmatized Text'] = df['Main Diagnosis Lemmatized'].apply(lambda x: ' '.join(x))\n",
    "\n",
    "# Initialize the CountVectorizer\n",
    "vectorizer = CountVectorizer()\n",
    "\n",
    "# Fit and transform the lemmatized text\n",
    "bow_matrix = vectorizer.fit_transform(df['Main Diagnosis Lemmatized Text'])\n",
    "\n",
    "# Convert the BoW matrix to a DataFrame for better readability (optional)\n",
    "bow_df = pd.DataFrame(bow_matrix.toarray(), columns=vectorizer.get_feature_names_out())\n",
    "\n",
    "# Display the BoW DataFrame\n",
    "print(bow_df)\n",
    "\n"
   ]
  },
  {
   "cell_type": "code",
   "execution_count": 49,
   "metadata": {},
   "outputs": [
    {
     "name": "stdout",
     "output_type": "stream",
     "text": [
      "0                [pain, unspecified]\n",
      "1                             [pain]\n",
      "2    [upper, respiratory, infection]\n",
      "3                        [epistaxis]\n",
      "4    [upper, respiratory, infection]\n",
      "Name: Main Diagnosis Lemmatized, dtype: object\n",
      "0               pain unspecified\n",
      "1                           pain\n",
      "2    upper respiratory infection\n",
      "3                      epistaxis\n",
      "4    upper respiratory infection\n",
      "Name: Main Diagnosis Lemmatized Text, dtype: object\n",
      "Vocabulary size: 1554\n"
     ]
    }
   ],
   "source": [
    "# Display the first few entries\n",
    "print(df['Main Diagnosis Lemmatized'].head())\n",
    "# Display the first few entries\n",
    "print(df['Main Diagnosis Lemmatized Text'].head())\n",
    "import spacy\n",
    "# Load the English language model\n",
    "nlp = spacy.load('en_core_web_sm')  # Replace with your specific model if different\n",
    "df['Main Diagnosis Lemmatized Text'] = df['Main Diagnosis Lemmatized Text'].fillna('')\n",
    "df = df[df['Main Diagnosis Lemmatized Text'].str.strip() != '']\n",
    "from sklearn.feature_extraction.text import CountVectorizer\n",
    "\n",
    "# Initialize the CountVectorizer\n",
    "vectorizer = CountVectorizer()\n",
    "\n",
    "# Fit the vectorizer\n",
    "vectorizer.fit(df['Main Diagnosis Lemmatized Text'])\n",
    "\n",
    "# Check the vocabulary size\n",
    "print(\"Vocabulary size:\", len(vectorizer.vocabulary_))\n"
   ]
  },
  {
   "cell_type": "code",
   "execution_count": 50,
   "metadata": {},
   "outputs": [
    {
     "name": "stdout",
     "output_type": "stream",
     "text": [
      "{'pain': 998, 'unspecified': 1474, 'upper': 1477, 'respiratory': 1184, 'infection': 696, 'epistaxis': 455, 'joint': 758, 'ankle': 76, 'foot': 525, 'issue': 752, 'repeat': 1180, 'prescription': 1116, 'bronchitis': 175, 'specify': 1290, 'acute': 31, 'chronic': 245, 'subdural': 1337, 'haemorrhage': 596, 'acutenontraumatic': 32, 'myalgia': 889, 'multiple': 883, 'site': 1268, 'allergy': 55, 'medical': 834, 'care': 205, 'headache': 604, 'dizziness': 385, 'giddiness': 564, 'abdominal': 13, 'conjunctivitis': 285, 'gastroenteritis': 553, 'colitis': 260, 'origin': 982, 'dental': 344, 'carie': 207, 'chest': 237, 'benign': 140, 'paroxysmal': 1015, 'vertigo': 1514, 'antipsychotic': 83, 'neuroleptic': 915, 'throat': 1404, 'cough': 308, 'abnormal': 14, 'uterine': 1490, 'vaginal': 1494, 'bleeding': 154, 'fever': 498, 'cutaneous': 322, 'abscess': 18, 'furuncle': 544, 'carbuncle': 202, 'cellulitis': 218, 'dysuria': 412, 'unknown': 1470, 'shoulder': 1254, 'region': 1174, 'gastritis': 552, 'mention': 847, 'nasopharyngitis': 900, 'common': 267, 'cold': 258, 'anal': 67, 'fistula': 510, 'foreign': 529, 'body': 163, 'ear': 413, 'limb': 789, 'injury': 713, 'muscle': 886, 'tendon': 1383, 'head': 603, 'noninfective': 929, 'procedure': 1126, 'purpose': 1150, 'remedy': 1178, 'health': 605, 'state': 1306, 'traumatic': 1444, 'arthropathy': 103, 'renal': 1179, 'colic': 259, 'sclerosis': 1222, 'low': 802, 'leg': 781, 'need': 905, 'immunisation': 677, 'rabie': 1155, 'bite': 151, 'rat': 1163, 'arthritis': 102, 'mutilans': 888, 'l405': 768, 'malaise': 813, 'fatigue': 489, 'maternal': 828, 'scar': 1215, 'previous': 1121, 'surgery': 1356, 'pregnancyrelate': 1112, 'condition': 278, 'insect': 714, 'wheeze': 1544, 'examination': 464, 'eye': 476, 'vision': 1522, 'activity': 30, 'touch': 1426, 'football': 526, 'sprain': 1301, 'strain': 1318, 'joints': 759, 'ligament': 788, 'part': 1016, 'neck': 903, 'sicklecell': 1258, 'anaemia': 65, 'crisis': 315, 'disorder': 376, 'eyelid': 478, 'breathing': 170, 'adnexa': 37, 'arm': 97, 'migraine': 857, 'constipation': 288, 'fissure': 509, 'wound': 1547, 'follow': 522, 'classify': 250, 'pilonidal': 1067, 'cyst': 327, 'nausea': 902, 'vomit': 1529, 'obstructive': 956, 'pulmonary': 1146, 'disease': 374, 'exacerbation': 463, 'urinary': 1483, 'tract': 1433, 'cramp': 311, 'spasm': 1285, 'face': 479, 'pharyngitis': 1057, 'forearm': 528, 'carry': 209, 'reason': 1167, 'syncope': 1368, 'collapse': 261, 'bursopathy': 188, 'hand': 600, 'routine': 1206, 'general': 556, 'checkup': 234, 'define': 336, 'subpopulation': 1341, 'transient': 1437, 'cerebral': 221, 'ischaemic': 750, 'attack': 117, 'open': 972, 'scalp': 1213, 'dyspnoea': 409, 'inflammation': 700, 'otitis': 989, 'externa': 470, 'mycose': 891, 'supervision': 1350, 'highrisk': 628, 'pregnancy': 1110, 'strike': 1326, 'cat': 210, 'pedestrian': 1026, 'injure': 712, 'traffic': 1434, 'accident': 21, 'asthma': 110, 'knee': 765, 'attention': 118, 'surgical': 1357, 'dressing': 392, 'suture': 1360, 'external': 471, 'residual': 1182, 'soft': 1282, 'tissue': 1417, 'fracture': 535, 'sacrum': 1210, 'motorcycle': 870, 'rider': 1199, 'visual': 1523, 'field': 503, 'defect': 334, 'functional': 541, 'polymorphonuclear': 1089, 'neutrophil': 919, 'cervicalgia': 227, 'epilepsy': 450, 'duration': 401, '3437': 8, 'complete': 270, 'week': 1540, 'localisationrelate': 798, 'focalpartial': 519, 'symptomatic': 1367, 'epileptic': 451, 'syndrome': 1369, 'complex': 272, 'partial': 1017, 'seizure': 1235, 'intractable': 739, 'otalgia': 988, 'sinusitis': 1267, 'nasal': 899, 'bone': 164, 'diarrhoea': 369, 'diabete': 362, 'mellitus': 838, 'complication': 275, 'torticolli': 1425, 'inhabitant': 708, 'institution': 719, 'allergic': 54, 'rhinitis': 1196, 'carpal': 208, 'tunnel': 1455, 'influenza': 702, 'manifestation': 822, 'virus': 1521, 'identify': 671, 'spontaneous': 1299, 'abortion': 16, 'incomplete': 687, 'irritable': 748, 'bowel': 165, 'contact': 290, 'knife': 766, 'sword': 1365, 'dagger': 329, 'localise': 799, 'swell': 1362, 'mass': 823, 'lump': 806, 'burn': 184, 'thickness': 1397, 'status': 1309, 'epilepticus': 452, 'accidental': 22, 'poisoning': 1081, 'exposure': 468, 'chemical': 236, 'noxious': 947, 'substance': 1343, 'hypersensitivity': 650, 'reaction': 1164, 'stroke': 1327, 'infarction': 695, 'hypertension': 652, 'skin': 1271, 'subcutaneous': 1336, 'unstable': 1475, 'angina': 71, 'achilles': 23, 'peripheral': 1048, 'smoke': 1278, 'fire': 506, 'flame': 512, 'undetermined': 1468, 'intent': 723, 'conjunctival': 284, 'sciatica': 1219, 'haemorrhoid': 597, 'type': 1460, 'poor': 1095, 'control': 294, 'corneal': 301, 'ulcer': 1461, 'fall': 485, 'bathtub': 131, 'shower': 1255, 'wrist': 1548, 'pneumonia': 1077, 'aura': 120, 'palpitation': 1003, 'forms': 532, 'pectoris': 1023, 'level': 785, 'tripping': 1451, 'premature': 1114, 'rupture': 1208, 'membrane': 840, 'threaten': 1402, 'rash': 1162, 'nonspecific': 939, 'eruption': 457, 'cornea': 300, 'trunk': 1453, 'lesion': 784, 'urticaria': 1486, 'medium': 836, 'hypotension': 667, 'impact': 678, 'ceruman': 225, 'finger': 505, 'ingrowe': 705, 'nail': 897, 'tonsillitis': 1422, 'driver': 394, 'car': 200, 'collision': 262, 'motor': 869, 'vehicle': 1507, 'hyperemesis': 643, 'gravidarum': 583, 'viral': 1520, 'wart': 1539, 'hyperventilation': 656, 'dysmenorrhoea': 406, '513': 11, 'emotional': 429, 'shock': 1253, 'stress': 1323, 'atypical': 119, 'facial': 480, 'abdomen': 12, 'iron': 746, 'deficiency': 335, 'change': 231, 'texture': 1392, 'anomalie': 77, 'tooth': 1423, 'position': 1097, 'maxillary': 829, 'initiate': 711, 'maintain': 811, 'sleep': 1273, 'insomnia': 717, 'myocardial': 893, 'mental': 846, 'pulpitis': 1147, 'shaft': 1249, 'metacarpal': 851, 'allterrain': 56, 'offroad': 964, 'twowheele': 1458, 'special': 1287, 'sclera': 1220, 'primary': 1123, 'number': 948, 'wheel': 1542, 'prolong': 1131, 'superficial': 1349, 'contusion': 295, 'keratitis': 761, 'occupant': 958, 'gingivitis': 566, 'prostatitis': 1135, 'laboratory': 770, 'hypodermic': 659, 'needle': 906, 'recurrent': 1170, 'oral': 975, 'aphthae': 89, 'conjunctiva': 283, 'abrasion': 17, 'distress': 381, 'labour': 771, 'delivery': 340, 'osteoarthritis': 984, 'trigeminal': 1448, 'neuralgia': 913, 'acne': 27, 'arise': 96, 'normal': 944, 'granuloma': 582, 'grand': 581, 'mal': 812, 'petit': 1055, 'cause': 216, 'periodontosis': 1046, 'bee': 134, 'form': 530, 'herpesviral': 622, 'person': 1051, 'consult': 289, 'explanation': 467, 'investigation': 742, 'finding': 504, 'miss': 860, 'abnormality': 15, 'breathe': 169, 'intraoperative': 740, 'postprocedural': 1103, 'nontoxic': 942, 'goitre': 575, 'end': 433, 'tibia': 1413, '2633': 5, 'assault': 108, 'sharp': 1251, 'object': 949, 'family': 488, 'member': 839, 'dermatitis': 352, 'food': 524, 'elbow': 424, 'amniotic': 62, 'fluid': 516, 'symptom': 1366, 'sign': 1261, 'involve': 744, 'sensation': 1239, 'perception': 1036, 'hip': 629, 'pruritus': 1138, 'blister': 157, 'epidermal': 444, 'loss': 801, 'hypoglycaemia': 660, 'heat': 610, 'exhaustion': 466, 'noncollision': 926, 'transport': 1441, 'design': 356, 'primarily': 1122, 'onroad': 968, 'use': 1487, 'coronavirus': 303, 'amnesic': 61, 'asymmetry': 112, 'generalise': 557, 'oedema': 961, 'rectal': 1168, 'congenital': 281, 'dysarthria': 403, 'anarthria': 69, 'hear': 606, 'irritant': 749, 'supraventricular': 1354, 'tachycardia': 1376, 'pathological': 1022, 'lipomatosis': 793, 'anxiety': 86, 'varicella': 1501, 'nose': 945, 'sinus': 1266, 'biliary': 145, 'great': 585, 'toe': 1419, 'dislocation': 375, 'blepharitis': 155, 'damage': 330, 'calcification': 193, 'ossification': 983, 'associate': 109, 'tracheitis': 1431, 'fourwheele': 534, 'vulva': 1532, 'urethral': 1481, 'discharge': 373, 'radius': 1160, 'dorsal': 389, 'angulation': 73, 'nonsuppurative': 940, 'cervical': 226, 'disc': 372, 'radiculopathy': 1158, 'mean': 830, 'consciousness': 287, 'mycosis': 892, 'fungoide': 542, 'vesicular': 1515, 'ganglion': 548, 'gastrooesophageal': 554, 'reflux': 1173, 'oesophagitis': 962, 'chalazion': 230, 'mouth': 874, 'cluster': 255, 'menopausal': 842, 'perimenopausal': 1040, 'enter': 437, 'bartholins': 129, 'gland': 569, 'adverse': 42, 'effect': 421, 'cholelithiasis': 243, 'obstruction': 955, 'crohns': 316, 'phlebitis': 1060, 'thrombophlebitis': 1407, 'deep': 333, 'vessel': 1516, 'extremity': 475, 'sepsis': 1241, 'cataract': 211, 'disturbance': 382, 'anaphylactic': 68, 'sequelae': 1244, 'ketoacidosis': 762, 'coma': 265, 'neoplasm': 908, 'parotid': 1014, 'spinal': 1293, 'lumbar': 805, 'puncture': 1148, 'lymphadenitis': 809, 'periocular': 1042, 'area': 94, 'restlessness': 1185, 'agitation': 47, 'insecticide': 715, 'proximal': 1137, 'phalanx': 1056, 'pharynx': 1059, 'pedal': 1025, 'cycle': 325, 'ladder': 774, 'enlarge': 436, 'lymph': 808, 'node': 925, 'false': 487, '37': 9, 'gestation': 561, 'stair': 1305, 'step': 1311, 'tremor': 1446, 'hypothyroidism': 669, 'bursa': 186, 'adhesive': 34, 'capsulitis': 199, 'onycholysis': 970, 'lymphangitis': 810, 'thickne': 1396, 'gout': 578, 'convulsion': 297, 'zoonotic': 1552, 'pandemic': 1006, 'metatarsal': 853, 'corns': 302, 'callosity': 196, 'calcific': 192, 'tendinitis': 1382, 'tinnitus': 1416, '2025': 2, 'nonorganic': 934, 'wheelchair': 1543, 'dorsalgia': 390, 'antepartum': 80, 'early': 414, 'yaw': 1550, 'stomatitis': 1315, 'ovarian': 992, 'hereditary': 619, 'factor': 482, 'viii': 1518, 'deltoid': 341, 'endometriosis': 435, 'ovary': 993, 'toxic': 1428, 'metal': 852, 'panic': 1007, 'episodic': 454, 'irregular': 747, 'menstruation': 845, 'observation': 951, 'suspect': 1359, 'ingest': 703, 'vulgaris': 1531, 'appendicitis': 92, 'breast': 168, 'calculus': 195, 'kidney': 764, 'unattended': 1466, 'death': 332, 'tracheostomy': 1432, 'gastrostomy': 555, 'eczema': 419, 'herpeticum': 623, 'slip': 1275, 'candidal': 197, 'catch': 212, 'crush': 319, 'jammed': 753, 'pinch': 1068, 'door': 388, 'shafts': 1250, 'ulna': 1463, 'nostril': 946, 'varicose': 1502, 'vein': 1508, 'confirm': 280, 'pelvic': 1028, 'thigh': 1398, 'psoriasis': 1139, 'acromioclavicular': 29, 'malignant': 816, 'brain': 167, 'intervertebral': 732, 'g551': 545, 'scapula': 1214, 'atrial': 115, 'fibrillation': 499, 'flutter': 517, 'ulcerative': 1462, 'bodily': 162, 'force': 527, 'parent': 1012, 'diabetes': 363, 'lactic': 773, 'acidosis': 26, 'sexually': 1248, 'transmit': 1438, 'simple': 1262, 'venom': 1509, 'scorpion': 1224, 'trauma': 1443, 'hepatitis': 617, 'serous': 1245, 'nerve': 910, 'outside': 991, 'mucositis': 879, 'mucosa': 878, 'late': 779, 'twin': 1456, 'glass': 570, 'window': 1546, 'radiation': 1157, 'spouse': 1300, 'domestic': 387, 'partner': 1018, 'polyphagia': 1092, 'breech': 171, 'presentation': 1118, 'alcoholic': 48, 'urine': 1484, 'systemic': 1374, 'lupus': 807, 'erythematosus': 459, 'nontraffic': 943, 'haematoma': 592, 'complicate': 273, 'wall': 1538, 'ecchymosis': 416, 'retractile': 1191, 'testis': 1389, 'strange': 1319, 'inexplicable': 691, 'behaviour': 136, 'temporomandibular': 1381, 'patellofemoral': 1021, 'perforation': 1037, 'tympanic': 1459, 'bronchiolitis': 174, 'loin': 800, 'painhaematuria': 1000, 'pickup': 1065, 'truck': 1452, 'van': 1498, 'automobile': 124, 'psychosis': 1141, 'elevated': 427, 'blood': 158, 'glucose': 573, 'subarachnoid': 1334, 'bell': 139, 'palsy': 1004, 'anorectal': 78, 'motorvehicle': 873, 'binocular': 147, 'depression': 348, 'misshapen': 861, 'polyp': 1091, 'chlamydial': 241, 'radial': 1156, 'styloid': 1332, 'tenosynovitis': 1384, 'de': 331, 'quervain': 1154, 'drum': 399, 'larynx': 778, 'hyperplasia': 649, 'prostate': 1134, 'jaundice': 754, 'testicular': 1388, 'dysfunction': 404, 'fibrosis': 501, 'passenger': 1019, 'gastric': 551, 'nonscarre': 938, 'hair': 598, 'dystrophy': 411, '1419': 0, 'pleural': 1075, 'effusion': 423, 'scleritis': 1221, 'lower': 803, 'pelvis': 1029, 'embolism': 428, 'thrombosis': 1408, 'jaw': 755, 'gonococcal': 577, 'orbit': 976, 'classical': 248, 'anus': 85, 'rectum': 1169, 'intermediate': 725, 'hyperglycaemia': 644, 'dysphagia': 408, 'tensiontype': 1385, 'disorders': 377, 'calcium': 194, 'metabolism': 850, 'interphalangeal': 728, 'acquire': 28, 'deformity': 337, 'organ': 979, 'system': 1373, 'involvement': 745, 'reduction': 1172, 'thumb': 1410, 'organism': 980, 'carer': 206, 'periodontitis': 1045, 'laryngitis': 776, 'hypertrophy': 655, 'apnoea': 90, 'hiccough': 625, 'buttock': 190, 'drug': 397, 'accessory': 20, 'mechanical': 832, 'ventricular': 1512, 'intracranial': 738, 'communicating': 269, 'shunt': 1256, 'demyelinate': 343, 'central': 219, 'nervous': 912, 'jaws': 756, 'schizophrenialike': 1218, 'psychotic': 1142, 'inflammatory': 701, 'scrotum': 1228, 'thrombocytopenia': 1405, 'unspecifie': 1473, 'bursitis': 187, 'ocular': 960, 'pure': 1149, 'hyperglyceridaemia': 646, 'hyperosmolarity': 648, 'nonketotic': 932, 'hyperglycaemichyperosmolar': 645, 'nkhhc': 924, 'cheek': 235, 'heart': 608, 'paraesthesia': 1008, 'sunburn': 1348, 'erythema': 458, 'flatulence': 513, 'relate': 1177, 'meniere': 841, 'cardiac': 203, 'arrest': 98, 'stage': 1304, 'haematuria': 593, 'severe': 1246, 'slide': 1274, 'sedan': 1234, 'splinter': 1295, 'lip': 791, 'cavity': 217, 'revolving': 1192, 'chair': 229, 'reactive': 1165, 'somnolence': 1283, 'boarding': 161, 'alight': 49, 'hyperkalaemia': 647, 'pressure': 1119, 'bronchiectasis': 173, 'subendocardial': 1338, 'ureter': 1478, 'glaucoma': 571, 'sicca': 1257, 'sjogren': 1269, 'certificate': 224, 'gouty': 579, 'enzyme': 443, 'inherit': 710, 'hemiplegia': 615, 'heavy': 611, 'bus': 189, 'myasthenia': 890, 'gravis': 584, 'complicated': 274, 'zoster': 1553, 'diverticulosis': 384, 'large': 775, 'intestine': 734, 'hypoosmolality': 664, 'hyponatraemia': 663, 'failure': 484, 'bacterial': 126, 'mammal': 819, 'pancreatitis': 1005, 'gallbladder': 546, 'cholecystitis': 242, 'extensor': 469, 'atopic': 114, 'epidermolysis': 445, 'bullosa': 182, 'simplex': 1263, 'tinea': 1415, 'inguinalis': 707, 'cruris': 318, 'transplant': 1440, 'pterygium': 1143, 'predominantly': 1107, 'lipomatous': 794, 'follicular': 521, 'intestinal': 733, 'steam': 1310, 'hot': 636, 'vapour': 1499, 'secondary': 1232, 'trimalleolar': 1450, 'obsessional': 952, 'thought': 1401, 'rumination': 1207, 'stumble': 1331, 'ribs': 1198, 'sternum': 1312, 'preexist': 1109, 'childbirth': 239, 'puerperium': 1145, 'thyroid': 1411, 'hormones': 633, 'substitute': 1344, 'nonmotor': 933, 'osteomyelitis': 987, 'floor': 515, 'malocclusion': 818, 'development': 358, 'animal': 74, 'sneeze': 1280, 'episcleritis': 453, 'idiopathic': 672, 'thrombocytopenic': 1406, 'purpura': 1151, 'febrile': 492, 'neutrophilic': 920, 'dermatosis': 354, 'sweet': 1361, 'combine': 266, 'vocal': 1526, 'tic': 1414, 'la': 769, 'tourette': 1427, 'mix': 862, 'depressive': 349, 'dressage': 391, 'polyuria': 1093, 'successful': 1345, 'resuscitation': 1187, 'hordeolum': 632, 'spine': 1294, 'closed': 254, 'malar': 814, 'haemoptysis': 595, 'clavicle': 252, 'fix': 511, 'stationary': 1308, 'emphysema': 430, 'perineal': 1041, 'multiparity': 882, 'thalassaemia': 1393, 'heartburn': 609, 'nonionise': 931, 'contracture': 292, 'corporis': 304, 'blunt': 160, 'intentional': 724, 'selfpoisone': 1237, 'medicament': 835, 'biological': 148, 'leiomyoma': 783, 'uterus': 1491, 'threewheele': 1403, 'impairment': 679, 'function': 540, 'screening': 1226, 'unilateral': 1469, 'inguinal': 706, 'hernia': 620, 'gangrene': 549, 'girdle': 568, 'pneumothorax': 1079, 'paralysis': 1009, 'cerebrovascular': 222, 'effects': 422, 'electric': 425, 'current': 321, 'hunger': 638, 'tongue': 1420, 'bloodpressure': 159, 'read': 1166, 'diagnosis': 365, 'cervicothoracic': 228, 'pollen': 1082, 'amoebiasis': 63, 'microbiological': 854, 'gallstone': 547, 'ileus': 673, 'bradycardia': 166, 'drown': 396, 'submersion': 1340, 'swimmingpool': 1363, 'variations': 1500, 'colour': 264, 'lumbago': 804, 'orchitis': 978, 'epididymitis': 447, 'epididymoorchitis': 448, 'vitreous': 1525, 'laceration': 772, 'structure': 1329, 'small': 1277, 'gestational': 562, 'age': 45, 'venous': 1511, 'nonpyogenic': 937, 'amputation': 64, 'amnesia': 60, 'physical': 1064, 'violence': 1519, 'sacroiliitis': 1209, 'motorscooter': 872, 'mope': 866, 'motorise': 871, 'bicycle': 143, 'specified': 1289, 'building': 180, 'thorax': 1400, 'horse': 634, 'scooter': 1223, 'nonpowere': 935, 'myositis': 894, 'overload': 996, 'intertrigo': 730, 'diabetic': 364, 'musculoskeletal': 887, 'connective': 286, 'gingivostomatitis': 567, 'pharyngotonsillitis': 1058, 'parkinson': 1013, 'rib': 1197, 'essential': 462, 'mastodynia': 825, 'power': 1104, 'drill': 393, 'personal': 1052, 'history': 630, 'tuberculosis': 1454, 'personality': 1053, 'transmural': 1439, 'anterior': 81, 'hypertrophic': 654, 'osteoarthropathy': 985, 'femur': 495, 'polyneuropathy': 1090, 'thoracic': 1399, 'flexor': 514, 'synovitis': 1371, 'lateral': 780, 'malleolus': 817, 'gonarthrosis': 576, 'presence': 1117, 'implant': 683, 'detergent': 357, 'immersion': 675, 'incisional': 686, 'umbilical': 1465, 'stinging': 1313, 'fish': 507, 'impingement': 682, 'degree': 338, 'erythrasma': 460, 'diplopia': 371, 'vestibular': 1517, 'neuronitis': 916, 'escalator': 461, 'oligohydramnio': 966, 'dyspepsia': 407, 'fibroadenosis': 500, 'poison': 1080, 'sheath': 1252, 'diverticulitis': 383, 'infective': 698, 'middle': 856, 'mastoid': 826, 'tonsil': 1421, 'dry': 400, 'genitalia': 560, 'urogenital': 1485, 'carbon': 201, 'monoxide': 864, 'fetal': 496, 'indwelling': 690, 'catheter': 213, 'pedis': 1027, 'mirror': 859, 'noninflammatory': 930, 'vagina': 1493, 'characterise': 233, 'mucous': 880, 'croup': 317, 'fibula': 502, 'electrolyte': 426, 'balance': 128, 'distal': 380, 'urethritis': 1482, 'eat': 415, 'preterm': 1120, 'natural': 901, 'orifice': 981, 'proctitis': 1128, 'hypokalaemia': 662, 'take': 1377, 'internally': 727, 'local': 797, 'congestive': 282, 'rheumatoid': 1195, 'melaena': 837, 'septic': 1242, 'deviate': 360, 'septum': 1243, 'frontal': 537, 'hydronephrosis': 641, 'throw': 1409, 'animaldrawn': 75, 'sigmoid': 1260, 'colon': 263, 'interstitial': 729, 'retention': 1188, 'pierce': 1066, 'subjective': 1339, 'dyshidrosis': 405, 'pompholyx': 1094, 'diaper': 367, 'napkin': 898, 'disorientation': 378, 'preeclampsia': 1108, 'polyarthropathy': 1084, 'concussion': 277, 'mump': 884, 'lichen': 786, 'planus': 1072, 'involuntary': 743, 'movement': 875, 'hypoparathyroidism': 665, 'herpetiformis': 624, 'xray': 1549, 'contrast': 293, 'therapeutic': 1394, 'postmenopausal': 1101, 'bleed': 153, 'scabie': 1212, 'dependence': 346, 'dialysis': 366, 'otorrhagia': 990, 'anaesthesia': 66, 'amenorrhoea': 59, 'dementia': 342, 'bulimia': 181, 'nervosa': 911, 'chorea': 244, 'base': 130, 'oesophagus': 963, 'second': 1231, 'autoimmune': 123, 'nonpurulent': 936, 'mastitis': 824, 'attachment': 116, 'difficulty': 370, 'single': 1264, 'live': 795, 'birth': 150, 'anxious': 87, 'avoidant': 125, 'hypoaesthesia': 658, 'biomechanical': 149, 'encephalopathy': 432, 'immobility': 676, 'polyhydramnio': 1088, 'problem': 1125, 'facility': 481, 'drop': 395, 'industrial': 689, 'neuropathic': 917, 'followup': 523, 'plastic': 1073, 'pregnancyinduce': 1111, 'torsion': 1424, 'speech': 1291, 'scarlet': 1216, 'furniture': 543, 'bronchopneumonia': 176, 'mucinosis': 876, 'volar': 1527, 'arthrosis': 104, 'gramnegative': 580, 'humerus': 637, 'mandibular': 821, 'vertebra': 1513, 'l1': 767, 'stomach': 1314, 'postpartum': 1102, 'unplanne': 1471, 'hospital': 635, 'selfharm': 1236, 'syringe': 1372, 'corpus': 305, 'uteri': 1489, 'catscratch': 214, 'dentine': 345, 'genital': 559, 'ectopic': 417, 'railway': 1161, 'train': 1435, 'alopecia': 57, 'areata': 95, 'fourth': 533, 'jumping': 760, 'push': 1152, 'high': 626, 'place': 1069, 'retinopathy': 1190, 'erosion': 456, 'phobic': 1061, 'polycystic': 1085, 'behavioural': 137, 'psychoactive': 1140, 'intoxication': 735, 'olecranon': 965, 'calcaneal': 191, 'spur': 1302, 'mucopurulent': 877, 'mastoiditis': 827, 'cyclist': 326, 'vulvae': 1533, 'brucellosis': 178, 'vaccine': 1492, 'periarthritis': 1038, 'disruption': 379, 'operation': 974, 'inanimate': 684, 'neonatal': 907, 'opacity': 971, 'bilateral': 144, 'sensorineural': 1240, 'hearing': 607, 'vascular': 1504, 'scrotal': 1227, 'varix': 1503, 'sudden': 1346, 'describe': 355, 'nonfatal': 928, 'onset': 969, 'gummata': 588, 'peritonsillar': 1049, 'buccal': 179, 'hyperstimulation': 651, 'unstageable': 1476, 'heel': 612, 'epididymis': 446, 'instantaneous': 718, 'salivary': 1211, 'weight': 1541, 'pallor': 1002, 'mesenteric': 848, 'bullous': 183, 'suppurative': 1352, 'nipple': 923, 'corn': 299, 'hypoglycaemic': 661, 'therapy': 1395, 'classified': 249, 'female': 494, 'menstrual': 844, 'ulnar': 1464, 'states': 1307, 'artificial': 105, 'menopause': 843, 'tarsal': 1379, 'nephrotic': 909, 'bimalleolar': 146, 'polycythaemia': 1086, 'prophylactic': 1133, 'measure': 831, 'impetigo': 681, 'aseptic': 106, 'necrosis': 904, 'enthesopathy': 441, 'male': 815, 'newborn': 922, 'trigger': 1449, 'surgically': 1358, 'create': 314, 'arteriovenous': 100, 'insufficient': 720, 'antenatal': 79, 'ovulation': 997, 'hyphaema': 657, 'completepartial': 271, 'anuria': 84, 'oliguria': 967, 'myringitis': 895, 'alimentary': 51, 'product': 1129, 'persistent': 1050, 'mood': 865, 'affective': 44, 'rigidity': 1201, 'counsel': 309, 'intracerebral': 737, 'hemisphere': 616, 'subcortical': 1335, 'hypertensive': 653, 'arrhythmia': 99, 'helminthiasis': 614, 'radiocarpal': 1159, 'abuse': 19, 'medial': 833, 'obsessivecompulsive': 953, 'blepharoconjunctivitis': 156, 'childhood': 240, 'autism': 122, 'tetanus': 1390, 'imperforate': 680, 'hyman': 642, 'jellyfish': 757, 'dystonia': 410, 'delay': 339, 'excessive': 465, 'feature': 491, 'insulin': 721, 'resistance': 1183, 'formation': 531, 'nonthrombocytopenic': 941, 'synovial': 1370, 'popliteal': 1096, 'space': 1284, 'baker': 127, 'depth': 350, 'incontinence': 688, 'seborrhoeic': 1230, 'neuritis': 914, 'blebitis': 152, 'spondylolysis': 1296, 'testes': 1386, 'periodontal': 1044, 'eyeball': 477, 'orbital': 977, 'infertility': 699, 'phosphorus': 1063, 'phosphatase': 1062, 'schizophrenia': 1217, 'developmental': 359, 'asthmaticus': 111, 'spondylosis': 1298, 'root': 1204, 'pemphigoid': 1030, 'gestationis': 563, 'herpe': 621, 'vasculitis': 1505, 'limited': 790, 'tobacco': 1418, 'enteritis': 438, 'supracondylar': 1353, 'skateboard': 1270, 'cystitis': 328, 'vaginitis': 1496, 'vulvitis': 1534, 'vulvovaginitis': 1535, 'infectious': 697, 'parasitic': 1011, 'ectropion': 418, 'dog': 386, 'painful': 999, 'micturition': 855, 'placenta': 1070, 'praevia': 1105, 'dye': 402, 'red': 1171, 'spider': 1292, 'insipidus': 716, 'streptococcal': 1321, 'auricle': 121, 'candidiasis': 198, 'n771': 896, 'obstetric': 954, 'overexertion': 994, 'strenuous': 1320, 'repetitive': 1181, 'slow': 1276, 'growth': 586, 'table': 1375, 'contraceptive': 291, 'management': 820, 'treatment': 1445, 'certain': 223, 'helicobacter': 613, 'pylori': 1153, 'chapter': 232, 'coagulation': 256, 'gluteal': 574, 'communicable': 268, 'hydrocephalus': 640, 'ischiorectal': 751, 'postcoital': 1099, 'angioneurotic': 72, 'specific': 1288, 'fetus': 497, 'gingiva': 565, 'edentulous': 420, 'alveolar': 58, 'ridge': 1200, 'intertrochanteric': 731, 'section': 1233, 'multigravida': 881, 'advanced': 41, 'prosthetic': 1136, 'valve': 1497, 'appetite': 93, 'depressant': 347, 'penis': 1034, 'adenoid': 33, 'polyarthritis': 1083, 'hallucination': 599, 'penile': 1033, 'urethra': 1480, 'administrative': 36, 'subacute': 1333, 'thyroiditis': 1412, 'entropion': 442, 'trichiasis': 1447, 'preauricular': 1106, 'patella': 1020, '3039': 6, 'surface': 1355, '2029': 3, 'device': 361, 'singleton': 1265, 'bear': 132, 'druginduce': 398, 'metabolic': 849, 'hit': 631, 'kick': 763, 'twisted': 1457, 'scratch': 1225, 'antibiotic': 82, 'plant': 1071, 'frostbite': 538, 'aortic': 88, 'aneurysm': 70, 'paraplegia': 1010, 'paint': 1001, 'atherosclerosis': 113, 'artery': 101, 'extremitie': 474, 'intermittent': 726, 'claudication': 251, 'intraarticular': 736, 'rheumatism': 1194, 'bicep': 142, 'liver': 796, 'roof': 1203, 'frequent': 536, 'regular': 1175, 'transverse': 1442, 'oblique': 950, 'lie': 787, 'hydrocele': 639, 'post': 1098, 'encephalocele': 431, 'gynaecological': 589, 'generalroutine': 558, 'enterobiasis': 439, 'venomous': 1510, 'snake': 1279, 'gum': 587, 'process': 1127, 'perioral': 1047, 'spastic': 1286, 'extraction': 472, 'agent': 46, 'pesticide': 1054, 'broad': 172, 'subserosal': 1342, 'retinal': 1189, 'occlusion': 957, 'peni': 1032, 'talus': 1378, 'senile': 1238, 'cradle': 310, 'behalf': 135, 'hard': 601, 'child': 238, 'haemolytic': 594, 'infantile': 694, 'walk': 1537, 'tetralogy': 1391, 'fallot': 486, 'cattle': 215, 'hypospadias': 666, 'conveyance': 296, 'teethe': 1380, 'seasonal': 1229, 'cardiomyopathy': 204, 'faecal': 483, 'crash': 313, 'epidural': 449, 'volleyball': 1528, 'sputum': 1303, 'condyles': 279, 'stridor': 1325, 'wait': 1536, 'period': 1043, 'neuropathy': 918, 'unspecife': 1472, 'fattyacid': 490, 'vaginismus': 1495, 'social': 1281, 'pregnant': 1113, 'incidental': 685, 'rotator': 1205, 'cuff': 320, 'benzene': 141, '4aminophenol': 10, 'derivative': 351, 'concern': 276, 'intake': 722, 'harmful': 602, 'nondependenceproduce': 927, 'vitamin': 1524, 'bed': 133, 'gas': 550, 'inhalation': 709, 'ingestion': 704, 'herbal': 618, 'folk': 520, 'extrapyramidal': 473, 'polydactyly': 1087, 'coeliac': 257, 'trait': 1436, 'lipid': 792, 'storage': 1317, 'undescended': 1467, 'testicle': 1387, 'trachea': 1430, 'hypothermia': 668, 'swing': 1364, 'ureteral': 1479, 'stricture': 1324, 'sexual': 1247, 'intussusception': 741, 'burns': 185, 'mononeuropathy': 863, 'vault': 1506, 'skull': 1272, 'rheumatic': 1193, 'pericardial': 1039, 'mumps': 885, 'highchair': 627, 'infant': 693, '32': 7, 'result': 1186, 'endocrine': 434, 'study': 1330, 'bronchu': 177, 'cyanotic': 324, 'von': 1530, 'willebrand': 1545, 'laryngomalacia': 777, 'cyanosis': 323, 'streptococci': 1322, 'corrosive': 307, 'alkalis': 53, 'alkalilike': 52, 'peptic': 1035, 'ptosis': 1144, 'opening': 973, '1500': 1, '2499': 4, 'enteropathic': 440, 'dermatophytosis': 353, 'pleurisy': 1076, 'usually': 1488, 'occur': 959, 'adolescence': 38, 'pneumonitis': 1078, 'fume': 539, 'spondylopathy': 1297, 'focal': 518, 'new': 921, 'prematurity': 1115, 'adult': 40, 'playground': 1074, 'climbing': 253, 'apparatus': 91, 'peculiar': 1024, 'infancy': 692, 'illdefine': 674, 'mortality': 867, 'overfeed': 995, 'young': 1551, 'primigravida': 1124, 'suicidal': 1347, 'ideation': 670, 'habit': 590, 'osteolysis': 986, 'legal': 782, 'circumstance': 247, 'struck': 1328, 'project': 1130, 'behcet': 138, 'cranial': 312, 'correct': 306, 'properly': 1132, 'administer': 35, 'posterior': 1100, 'ritual': 1202, 'circumcision': 246, 'adrenal': 39, 'cephalhaematoma': 220, 'alighting': 50, 'acid': 24, 'acidlike': 25, 'support': 1351, 'globe': 572, 'penetrate': 1031, 'stool': 1316, 'motion': 868, 'sickness': 1259, 'fishing': 508, 'diaphragmatic': 368, 'haemangioma': 591, 'affect': 43, 'cord': 298, 'aspiration': 107, 'milk': 858, 'regurgitate': 1176, 'feed': 493, 'toxicum': 1429}\n",
      "Sample Text: pain unspecified\n",
      "Tokens: ['pain', 'unspecified']\n",
      "   1  1419  1500  2  2025  2029  2499  2633  3  3039  ...  wheeze  willebrand  \\\n",
      "0  0     0     0  0     0     0     0     0  0     0  ...       0           0   \n",
      "1  0     0     0  0     0     0     0     0  0     0  ...       0           0   \n",
      "2  0     0     0  0     0     0     0     0  0     0  ...       0           0   \n",
      "3  0     0     0  0     0     0     0     0  0     0  ...       0           0   \n",
      "4  0     0     0  0     0     0     0     0  0     0  ...       0           0   \n",
      "\n",
      "   window  wound  wrist  xray  yaw  young  zoonotic  zoster  \n",
      "0       0      0      0     0    0      0         0       0  \n",
      "1       0      0      0     0    0      0         0       0  \n",
      "2       0      0      0     0    0      0         0       0  \n",
      "3       0      0      0     0    0      0         0       0  \n",
      "4       0      0      0     0    0      0         0       0  \n",
      "\n",
      "[5 rows x 1560 columns]\n",
      "   abdomen  abdominal  abnormal  abnormality  abortion  abrasion  abscess  \\\n",
      "0        0          0         0            0         0         0        0   \n",
      "1        0          0         0            0         0         0        0   \n",
      "2        0          0         0            0         0         0        0   \n",
      "3        0          0         0            0         0         0        0   \n",
      "4        0          0         0            0         0         0        0   \n",
      "\n",
      "   abuse  accessory  accident  ...  wheeze  willebrand  window  wound  wrist  \\\n",
      "0      0          0         0  ...       0           0       0      0      0   \n",
      "1      0          0         0  ...       0           0       0      0      0   \n",
      "2      0          0         0  ...       0           0       0      0      0   \n",
      "3      0          0         0  ...       0           0       0      0      0   \n",
      "4      0          0         0  ...       0           0       0      0      0   \n",
      "\n",
      "   xray  yaw  young  zoonotic  zoster  \n",
      "0     0    0      0         0       0  \n",
      "1     0    0      0         0       0  \n",
      "2     0    0      0         0       0  \n",
      "3     0    0      0         0       0  \n",
      "4     0    0      0         0       0  \n",
      "\n",
      "[5 rows x 1538 columns]\n",
      "BoW matrix shape: (97090, 1538)\n",
      "Non-zero entries in BoW matrix: 289196\n"
     ]
    }
   ],
   "source": [
    "print(vectorizer.vocabulary_)\n",
    "# Take a sample text\n",
    "sample_text = df['Main Diagnosis Lemmatized Text'].iloc[0]\n",
    "print(\"Sample Text:\", sample_text)\n",
    "\n",
    "# Use the vectorizer's tokenizer\n",
    "tokens = vectorizer.build_tokenizer()(sample_text)\n",
    "print(\"Tokens:\", tokens)\n",
    "vectorizer = CountVectorizer(token_pattern=r\"(?u)\\b\\w+\\b\")\n",
    "vectorizer.fit(df['Main Diagnosis Lemmatized Text'])\n",
    "bow_matrix = vectorizer.transform(df['Main Diagnosis Lemmatized Text'])\n",
    "bow_df = pd.DataFrame(bow_matrix.toarray(), columns=vectorizer.get_feature_names_out())\n",
    "print(bow_df.head())\n",
    "\n",
    "vectorizer = CountVectorizer(stop_words=None, token_pattern=r\"(?u)\\b\\w+\\b\")\n",
    "vectorizer = CountVectorizer(\n",
    "    token_pattern=r\"(?u)\\b[a-zA-Z_][a-zA-Z_]+\\b\",  # Tokens with letters only\n",
    "    stop_words=None\n",
    ")\n",
    "vectorizer.fit(df['Main Diagnosis Lemmatized Text'])\n",
    "bow_matrix = vectorizer.transform(df['Main Diagnosis Lemmatized Text'])\n",
    "bow_df = pd.DataFrame(bow_matrix.toarray(), columns=vectorizer.get_feature_names_out())\n",
    "print(bow_df.head())\n",
    "print(\"BoW matrix shape:\", bow_matrix.shape)\n",
    "print(\"Non-zero entries in BoW matrix:\", bow_matrix.nnz)\n"
   ]
  },
  {
   "cell_type": "code",
   "execution_count": 34,
   "metadata": {},
   "outputs": [
    {
     "name": "stdout",
     "output_type": "stream",
     "text": [
      "0               pain unspecified\n",
      "1                           pain\n",
      "2    upper respiratory infection\n",
      "3                      epistaxis\n",
      "4    upper respiratory infection\n",
      "Name: Main Diagnosis Lemmatized String, dtype: object\n"
     ]
    }
   ],
   "source": [
    "from sklearn.feature_extraction.text import CountVectorizer\n",
    "print(df['Main Diagnosis Lemmatized String'].head())"
   ]
  },
  {
   "cell_type": "code",
   "execution_count": 18,
   "metadata": {},
   "outputs": [],
   "source": [
    "from sklearn.decomposition import PCA\n",
    "import matplotlib.pyplot as plt"
   ]
  },
  {
   "cell_type": "code",
   "execution_count": 20,
   "metadata": {},
   "outputs": [
    {
     "name": "stdout",
     "output_type": "stream",
     "text": [
      "Generating BoW matrix...\n",
      "BoW matrix shape: (97090, 1554)\n"
     ]
    }
   ],
   "source": [
    "# Join tokens back to string format for CountVectorizer\n",
    "df['Processed Text'] = df['Main Diagnosis Lemmatized'].apply(lambda x: ' '.join(x))\n",
    "\n",
    "# Initialize the CountVectorizer (BoW)\n",
    "vectorizer = CountVectorizer()\n",
    "\n",
    "# Fit the vectorizer on the processed text and transform into a sparse matrix\n",
    "print(\"Generating BoW matrix...\")\n",
    "bow_matrix = vectorizer.fit_transform(df['Processed Text'])\n",
    "\n",
    "print(f\"BoW matrix shape: {bow_matrix.shape}\")"
   ]
  },
  {
   "cell_type": "code",
   "execution_count": 22,
   "metadata": {},
   "outputs": [
    {
     "name": "stdout",
     "output_type": "stream",
     "text": [
      "Applying PCA for Dimensionality Reduction...\n"
     ]
    },
    {
     "name": "stderr",
     "output_type": "stream",
     "text": [
      "/var/folders/s9/js1_pzls6t9cp_gclfqd6yn80000gn/T/ipykernel_45072/1098154062.py:7: UserWarning: No data for colormapping provided via 'c'. Parameters 'cmap' will be ignored\n",
      "  plt.scatter(bow_pca[:, 0], bow_pca[:, 1], s=5, cmap='viridis')\n"
     ]
    },
    {
     "data": {
      "image/png": "[encoded data removed]",
      "text/plain": [
       "<Figure size 1000x600 with 1 Axes>"
      ]
     },
     "metadata": {},
     "output_type": "display_data"
    }
   ],
   "source": [
    "# Convert sparse matrix to dense using toarray() instead of todense()\n",
    "print(\"Applying PCA for Dimensionality Reduction...\")\n",
    "bow_pca = pca.fit_transform(bow_matrix.toarray())  # Convert sparse matrix to NumPy array for PCA\n",
    "\n",
    "# Visualize the result in 2D\n",
    "plt.figure(figsize=(10, 6))\n",
    "plt.scatter(bow_pca[:, 0], bow_pca[:, 1], s=5, cmap='viridis')\n",
    "plt.title('PCA Projection of BoW Data')\n",
    "plt.xlabel('Principal Component 1')\n",
    "plt.ylabel('Principal Component 2')\n",
    "plt.show()\n"
   ]
  },
  {
   "cell_type": "code",
   "execution_count": 23,
   "metadata": {},
   "outputs": [],
   "source": [
    "from sklearn.cluster import KMeans\n",
    "from sklearn.metrics import silhouette_score"
   ]
  },
  {
   "cell_type": "code",
   "execution_count": 24,
   "metadata": {},
   "outputs": [
    {
     "name": "stdout",
     "output_type": "stream",
     "text": [
      "Applying K-Means Clustering...\n"
     ]
    },
    {
     "name": "stderr",
     "output_type": "stream",
     "text": [
      "/Library/Frameworks/Python.framework/Versions/3.12/lib/python3.12/site-packages/threadpoolctl.py:1214: RuntimeWarning: \n",
      "Found Intel OpenMP ('libiomp') and LLVM OpenMP ('libomp') loaded at\n",
      "the same time. Both libraries are known to be incompatible and this\n",
      "can cause random crashes or deadlocks on Linux when loaded in the\n",
      "same Python program.\n",
      "Using threadpoolctl may cause crashes or deadlocks. For more\n",
      "information and possible workarounds, please see\n",
      "    https://github.com/joblib/threadpoolctl/blob/master/multiple_openmp.md\n",
      "\n",
      "  warnings.warn(msg, RuntimeWarning)\n"
     ]
    },
    {
     "data": {
      "image/png": "[encoded data removed]",
      "text/plain": [
       "<Figure size 1000x600 with 2 Axes>"
      ]
     },
     "metadata": {},
     "output_type": "display_data"
    },
    {
     "name": "stdout",
     "output_type": "stream",
     "text": [
      "Silhouette Score: 0.78\n"
     ]
    }
   ],
   "source": [
    "# Apply K-Means clustering\n",
    "print(\"Applying K-Means Clustering...\")\n",
    "k = 5  # You can adjust the number of clusters based on your analysis\n",
    "kmeans = KMeans(n_clusters=k, random_state=42)\n",
    "\n",
    "# Fit the KMeans model on the PCA-reduced data\n",
    "clusters = kmeans.fit_predict(bow_pca)\n",
    "\n",
    "# Visualize the clusters\n",
    "plt.figure(figsize=(10, 6))\n",
    "plt.scatter(bow_pca[:, 0], bow_pca[:, 1], c=clusters, cmap='viridis', s=5)\n",
    "plt.title('K-Means Clustering of BoW Data after PCA')\n",
    "plt.xlabel('Principal Component 1')\n",
    "plt.ylabel('Principal Component 2')\n",
    "plt.colorbar(label='Cluster')\n",
    "plt.show()\n",
    "\n",
    "# Evaluate clustering performance using silhouette score\n",
    "silhouette_avg = silhouette_score(bow_pca, clusters)\n",
    "print(f'Silhouette Score: {silhouette_avg:.2f}')"
   ]
  },
  {
   "cell_type": "code",
   "execution_count": 27,
   "metadata": {},
   "outputs": [],
   "source": [
    "from sklearn.manifold import TSNE\n",
    "import time"
   ]
  },
  {
   "cell_type": "code",
   "execution_count": 28,
   "metadata": {},
   "outputs": [
    {
     "name": "stdout",
     "output_type": "stream",
     "text": [
      "Applying t-SNE for Dimensionality Reduction...\n"
     ]
    },
    {
     "name": "stderr",
     "output_type": "stream",
     "text": [
      "Applying t-SNE: 100%|██████████| 3000/3000 [00:03<00:00, 880.10it/s]/Library/Frameworks/Python.framework/Versions/3.12/lib/python3.12/site-packages/sklearn/manifold/_t_sne.py:1162: FutureWarning: 'n_iter' was renamed to 'max_iter' in version 1.5 and will be removed in 1.7.\n",
      "  warnings.warn(\n",
      "Applying t-SNE: 100%|██████████| 3000/3000 [06:52<00:00,  7.27it/s] \n"
     ]
    },
    {
     "ename": "KeyboardInterrupt",
     "evalue": "",
     "output_type": "error",
     "traceback": [
      "\u001b[0;31m---------------------------------------------------------------------------\u001b[0m",
      "\u001b[0;31mKeyboardInterrupt\u001b[0m                         Traceback (most recent call last)",
      "Cell \u001b[0;32mIn[28], line 12\u001b[0m\n\u001b[1;32m     10\u001b[0m         pbar\u001b[38;5;241m.\u001b[39mupdate(total_iterations \u001b[38;5;241m/\u001b[39m\u001b[38;5;241m/\u001b[39m \u001b[38;5;241m100\u001b[39m)  \u001b[38;5;66;03m# Update the progress bar\u001b[39;00m\n\u001b[1;32m     11\u001b[0m     \u001b[38;5;66;03m# Fit t-SNE (this step might take time without internal progress feedback)\u001b[39;00m\n\u001b[0;32m---> 12\u001b[0m     bow_tsne \u001b[38;5;241m=\u001b[39m \u001b[43mtsne\u001b[49m\u001b[38;5;241;43m.\u001b[39;49m\u001b[43mfit_transform\u001b[49m\u001b[43m(\u001b[49m\u001b[43mbow_matrix\u001b[49m\u001b[38;5;241;43m.\u001b[39;49m\u001b[43mtoarray\u001b[49m\u001b[43m(\u001b[49m\u001b[43m)\u001b[49m\u001b[43m)\u001b[49m\n\u001b[1;32m     14\u001b[0m \u001b[38;5;66;03m# Plot the result of t-SNE\u001b[39;00m\n\u001b[1;32m     15\u001b[0m plt\u001b[38;5;241m.\u001b[39mfigure(figsize\u001b[38;5;241m=\u001b[39m(\u001b[38;5;241m10\u001b[39m, \u001b[38;5;241m6\u001b[39m))\n",
      "File \u001b[0;32m/Library/Frameworks/Python.framework/Versions/3.12/lib/python3.12/site-packages/sklearn/utils/_set_output.py:313\u001b[0m, in \u001b[0;36m_wrap_method_output.<locals>.wrapped\u001b[0;34m(self, X, *args, **kwargs)\u001b[0m\n\u001b[1;32m    311\u001b[0m \u001b[38;5;129m@wraps\u001b[39m(f)\n\u001b[1;32m    312\u001b[0m \u001b[38;5;28;01mdef\u001b[39;00m \u001b[38;5;21mwrapped\u001b[39m(\u001b[38;5;28mself\u001b[39m, X, \u001b[38;5;241m*\u001b[39margs, \u001b[38;5;241m*\u001b[39m\u001b[38;5;241m*\u001b[39mkwargs):\n\u001b[0;32m--> 313\u001b[0m     data_to_wrap \u001b[38;5;241m=\u001b[39m \u001b[43mf\u001b[49m\u001b[43m(\u001b[49m\u001b[38;5;28;43mself\u001b[39;49m\u001b[43m,\u001b[49m\u001b[43m \u001b[49m\u001b[43mX\u001b[49m\u001b[43m,\u001b[49m\u001b[43m \u001b[49m\u001b[38;5;241;43m*\u001b[39;49m\u001b[43margs\u001b[49m\u001b[43m,\u001b[49m\u001b[43m \u001b[49m\u001b[38;5;241;43m*\u001b[39;49m\u001b[38;5;241;43m*\u001b[39;49m\u001b[43mkwargs\u001b[49m\u001b[43m)\u001b[49m\n\u001b[1;32m    314\u001b[0m     \u001b[38;5;28;01mif\u001b[39;00m \u001b[38;5;28misinstance\u001b[39m(data_to_wrap, \u001b[38;5;28mtuple\u001b[39m):\n\u001b[1;32m    315\u001b[0m         \u001b[38;5;66;03m# only wrap the first output for cross decomposition\u001b[39;00m\n\u001b[1;32m    316\u001b[0m         return_tuple \u001b[38;5;241m=\u001b[39m (\n\u001b[1;32m    317\u001b[0m             _wrap_data_with_container(method, data_to_wrap[\u001b[38;5;241m0\u001b[39m], X, \u001b[38;5;28mself\u001b[39m),\n\u001b[1;32m    318\u001b[0m             \u001b[38;5;241m*\u001b[39mdata_to_wrap[\u001b[38;5;241m1\u001b[39m:],\n\u001b[1;32m    319\u001b[0m         )\n",
      "File \u001b[0;32m/Library/Frameworks/Python.framework/Versions/3.12/lib/python3.12/site-packages/sklearn/base.py:1473\u001b[0m, in \u001b[0;36m_fit_context.<locals>.decorator.<locals>.wrapper\u001b[0;34m(estimator, *args, **kwargs)\u001b[0m\n\u001b[1;32m   1466\u001b[0m     estimator\u001b[38;5;241m.\u001b[39m_validate_params()\n\u001b[1;32m   1468\u001b[0m \u001b[38;5;28;01mwith\u001b[39;00m config_context(\n\u001b[1;32m   1469\u001b[0m     skip_parameter_validation\u001b[38;5;241m=\u001b[39m(\n\u001b[1;32m   1470\u001b[0m         prefer_skip_nested_validation \u001b[38;5;129;01mor\u001b[39;00m global_skip_validation\n\u001b[1;32m   1471\u001b[0m     )\n\u001b[1;32m   1472\u001b[0m ):\n\u001b[0;32m-> 1473\u001b[0m     \u001b[38;5;28;01mreturn\u001b[39;00m \u001b[43mfit_method\u001b[49m\u001b[43m(\u001b[49m\u001b[43mestimator\u001b[49m\u001b[43m,\u001b[49m\u001b[43m \u001b[49m\u001b[38;5;241;43m*\u001b[39;49m\u001b[43margs\u001b[49m\u001b[43m,\u001b[49m\u001b[43m \u001b[49m\u001b[38;5;241;43m*\u001b[39;49m\u001b[38;5;241;43m*\u001b[39;49m\u001b[43mkwargs\u001b[49m\u001b[43m)\u001b[49m\n",
      "File \u001b[0;32m/Library/Frameworks/Python.framework/Versions/3.12/lib/python3.12/site-packages/sklearn/manifold/_t_sne.py:1176\u001b[0m, in \u001b[0;36mTSNE.fit_transform\u001b[0;34m(self, X, y)\u001b[0m\n\u001b[1;32m   1173\u001b[0m     \u001b[38;5;28mself\u001b[39m\u001b[38;5;241m.\u001b[39m_max_iter \u001b[38;5;241m=\u001b[39m \u001b[38;5;28mself\u001b[39m\u001b[38;5;241m.\u001b[39mmax_iter\n\u001b[1;32m   1175\u001b[0m \u001b[38;5;28mself\u001b[39m\u001b[38;5;241m.\u001b[39m_check_params_vs_input(X)\n\u001b[0;32m-> 1176\u001b[0m embedding \u001b[38;5;241m=\u001b[39m \u001b[38;5;28;43mself\u001b[39;49m\u001b[38;5;241;43m.\u001b[39;49m\u001b[43m_fit\u001b[49m\u001b[43m(\u001b[49m\u001b[43mX\u001b[49m\u001b[43m)\u001b[49m\n\u001b[1;32m   1177\u001b[0m \u001b[38;5;28mself\u001b[39m\u001b[38;5;241m.\u001b[39membedding_ \u001b[38;5;241m=\u001b[39m embedding\n\u001b[1;32m   1178\u001b[0m \u001b[38;5;28;01mreturn\u001b[39;00m \u001b[38;5;28mself\u001b[39m\u001b[38;5;241m.\u001b[39membedding_\n",
      "File \u001b[0;32m/Library/Frameworks/Python.framework/Versions/3.12/lib/python3.12/site-packages/sklearn/manifold/_t_sne.py:1044\u001b[0m, in \u001b[0;36mTSNE._fit\u001b[0;34m(self, X, skip_num_points)\u001b[0m\n\u001b[1;32m   1038\u001b[0m \u001b[38;5;66;03m# Degrees of freedom of the Student's t-distribution. The suggestion\u001b[39;00m\n\u001b[1;32m   1039\u001b[0m \u001b[38;5;66;03m# degrees_of_freedom = n_components - 1 comes from\u001b[39;00m\n\u001b[1;32m   1040\u001b[0m \u001b[38;5;66;03m# \"Learning a Parametric Embedding by Preserving Local Structure\"\u001b[39;00m\n\u001b[1;32m   1041\u001b[0m \u001b[38;5;66;03m# Laurens van der Maaten, 2009.\u001b[39;00m\n\u001b[1;32m   1042\u001b[0m degrees_of_freedom \u001b[38;5;241m=\u001b[39m \u001b[38;5;28mmax\u001b[39m(\u001b[38;5;28mself\u001b[39m\u001b[38;5;241m.\u001b[39mn_components \u001b[38;5;241m-\u001b[39m \u001b[38;5;241m1\u001b[39m, \u001b[38;5;241m1\u001b[39m)\n\u001b[0;32m-> 1044\u001b[0m \u001b[38;5;28;01mreturn\u001b[39;00m \u001b[38;5;28;43mself\u001b[39;49m\u001b[38;5;241;43m.\u001b[39;49m\u001b[43m_tsne\u001b[49m\u001b[43m(\u001b[49m\n\u001b[1;32m   1045\u001b[0m \u001b[43m    \u001b[49m\u001b[43mP\u001b[49m\u001b[43m,\u001b[49m\n\u001b[1;32m   1046\u001b[0m \u001b[43m    \u001b[49m\u001b[43mdegrees_of_freedom\u001b[49m\u001b[43m,\u001b[49m\n\u001b[1;32m   1047\u001b[0m \u001b[43m    \u001b[49m\u001b[43mn_samples\u001b[49m\u001b[43m,\u001b[49m\n\u001b[1;32m   1048\u001b[0m \u001b[43m    \u001b[49m\u001b[43mX_embedded\u001b[49m\u001b[38;5;241;43m=\u001b[39;49m\u001b[43mX_embedded\u001b[49m\u001b[43m,\u001b[49m\n\u001b[1;32m   1049\u001b[0m \u001b[43m    \u001b[49m\u001b[43mneighbors\u001b[49m\u001b[38;5;241;43m=\u001b[39;49m\u001b[43mneighbors_nn\u001b[49m\u001b[43m,\u001b[49m\n\u001b[1;32m   1050\u001b[0m \u001b[43m    \u001b[49m\u001b[43mskip_num_points\u001b[49m\u001b[38;5;241;43m=\u001b[39;49m\u001b[43mskip_num_points\u001b[49m\u001b[43m,\u001b[49m\n\u001b[1;32m   1051\u001b[0m \u001b[43m\u001b[49m\u001b[43m)\u001b[49m\n",
      "File \u001b[0;32m/Library/Frameworks/Python.framework/Versions/3.12/lib/python3.12/site-packages/sklearn/manifold/_t_sne.py:1112\u001b[0m, in \u001b[0;36mTSNE._tsne\u001b[0;34m(self, P, degrees_of_freedom, n_samples, X_embedded, neighbors, skip_num_points)\u001b[0m\n\u001b[1;32m   1110\u001b[0m     opt_args[\u001b[38;5;124m\"\u001b[39m\u001b[38;5;124mmomentum\u001b[39m\u001b[38;5;124m\"\u001b[39m] \u001b[38;5;241m=\u001b[39m \u001b[38;5;241m0.8\u001b[39m\n\u001b[1;32m   1111\u001b[0m     opt_args[\u001b[38;5;124m\"\u001b[39m\u001b[38;5;124mn_iter_without_progress\u001b[39m\u001b[38;5;124m\"\u001b[39m] \u001b[38;5;241m=\u001b[39m \u001b[38;5;28mself\u001b[39m\u001b[38;5;241m.\u001b[39mn_iter_without_progress\n\u001b[0;32m-> 1112\u001b[0m     params, kl_divergence, it \u001b[38;5;241m=\u001b[39m \u001b[43m_gradient_descent\u001b[49m\u001b[43m(\u001b[49m\u001b[43mobj_func\u001b[49m\u001b[43m,\u001b[49m\u001b[43m \u001b[49m\u001b[43mparams\u001b[49m\u001b[43m,\u001b[49m\u001b[43m \u001b[49m\u001b[38;5;241;43m*\u001b[39;49m\u001b[38;5;241;43m*\u001b[39;49m\u001b[43mopt_args\u001b[49m\u001b[43m)\u001b[49m\n\u001b[1;32m   1114\u001b[0m \u001b[38;5;66;03m# Save the final number of iterations\u001b[39;00m\n\u001b[1;32m   1115\u001b[0m \u001b[38;5;28mself\u001b[39m\u001b[38;5;241m.\u001b[39mn_iter_ \u001b[38;5;241m=\u001b[39m it\n",
      "File \u001b[0;32m/Library/Frameworks/Python.framework/Versions/3.12/lib/python3.12/site-packages/sklearn/manifold/_t_sne.py:403\u001b[0m, in \u001b[0;36m_gradient_descent\u001b[0;34m(objective, p0, it, max_iter, n_iter_check, n_iter_without_progress, momentum, learning_rate, min_gain, min_grad_norm, verbose, args, kwargs)\u001b[0m\n\u001b[1;32m    400\u001b[0m \u001b[38;5;66;03m# only compute the error when needed\u001b[39;00m\n\u001b[1;32m    401\u001b[0m kwargs[\u001b[38;5;124m\"\u001b[39m\u001b[38;5;124mcompute_error\u001b[39m\u001b[38;5;124m\"\u001b[39m] \u001b[38;5;241m=\u001b[39m check_convergence \u001b[38;5;129;01mor\u001b[39;00m i \u001b[38;5;241m==\u001b[39m max_iter \u001b[38;5;241m-\u001b[39m \u001b[38;5;241m1\u001b[39m\n\u001b[0;32m--> 403\u001b[0m error, grad \u001b[38;5;241m=\u001b[39m \u001b[43mobjective\u001b[49m\u001b[43m(\u001b[49m\u001b[43mp\u001b[49m\u001b[43m,\u001b[49m\u001b[43m \u001b[49m\u001b[38;5;241;43m*\u001b[39;49m\u001b[43margs\u001b[49m\u001b[43m,\u001b[49m\u001b[43m \u001b[49m\u001b[38;5;241;43m*\u001b[39;49m\u001b[38;5;241;43m*\u001b[39;49m\u001b[43mkwargs\u001b[49m\u001b[43m)\u001b[49m\n\u001b[1;32m    405\u001b[0m inc \u001b[38;5;241m=\u001b[39m update \u001b[38;5;241m*\u001b[39m grad \u001b[38;5;241m<\u001b[39m \u001b[38;5;241m0.0\u001b[39m\n\u001b[1;32m    406\u001b[0m dec \u001b[38;5;241m=\u001b[39m np\u001b[38;5;241m.\u001b[39minvert(inc)\n",
      "File \u001b[0;32m/Library/Frameworks/Python.framework/Versions/3.12/lib/python3.12/site-packages/sklearn/manifold/_t_sne.py:284\u001b[0m, in \u001b[0;36m_kl_divergence_bh\u001b[0;34m(params, P, degrees_of_freedom, n_samples, n_components, angle, skip_num_points, verbose, compute_error, num_threads)\u001b[0m\n\u001b[1;32m    281\u001b[0m indptr \u001b[38;5;241m=\u001b[39m P\u001b[38;5;241m.\u001b[39mindptr\u001b[38;5;241m.\u001b[39mastype(np\u001b[38;5;241m.\u001b[39mint64, copy\u001b[38;5;241m=\u001b[39m\u001b[38;5;28;01mFalse\u001b[39;00m)\n\u001b[1;32m    283\u001b[0m grad \u001b[38;5;241m=\u001b[39m np\u001b[38;5;241m.\u001b[39mzeros(X_embedded\u001b[38;5;241m.\u001b[39mshape, dtype\u001b[38;5;241m=\u001b[39mnp\u001b[38;5;241m.\u001b[39mfloat32)\n\u001b[0;32m--> 284\u001b[0m error \u001b[38;5;241m=\u001b[39m \u001b[43m_barnes_hut_tsne\u001b[49m\u001b[38;5;241;43m.\u001b[39;49m\u001b[43mgradient\u001b[49m\u001b[43m(\u001b[49m\n\u001b[1;32m    285\u001b[0m \u001b[43m    \u001b[49m\u001b[43mval_P\u001b[49m\u001b[43m,\u001b[49m\n\u001b[1;32m    286\u001b[0m \u001b[43m    \u001b[49m\u001b[43mX_embedded\u001b[49m\u001b[43m,\u001b[49m\n\u001b[1;32m    287\u001b[0m \u001b[43m    \u001b[49m\u001b[43mneighbors\u001b[49m\u001b[43m,\u001b[49m\n\u001b[1;32m    288\u001b[0m \u001b[43m    \u001b[49m\u001b[43mindptr\u001b[49m\u001b[43m,\u001b[49m\n\u001b[1;32m    289\u001b[0m \u001b[43m    \u001b[49m\u001b[43mgrad\u001b[49m\u001b[43m,\u001b[49m\n\u001b[1;32m    290\u001b[0m \u001b[43m    \u001b[49m\u001b[43mangle\u001b[49m\u001b[43m,\u001b[49m\n\u001b[1;32m    291\u001b[0m \u001b[43m    \u001b[49m\u001b[43mn_components\u001b[49m\u001b[43m,\u001b[49m\n\u001b[1;32m    292\u001b[0m \u001b[43m    \u001b[49m\u001b[43mverbose\u001b[49m\u001b[43m,\u001b[49m\n\u001b[1;32m    293\u001b[0m \u001b[43m    \u001b[49m\u001b[43mdof\u001b[49m\u001b[38;5;241;43m=\u001b[39;49m\u001b[43mdegrees_of_freedom\u001b[49m\u001b[43m,\u001b[49m\n\u001b[1;32m    294\u001b[0m \u001b[43m    \u001b[49m\u001b[43mcompute_error\u001b[49m\u001b[38;5;241;43m=\u001b[39;49m\u001b[43mcompute_error\u001b[49m\u001b[43m,\u001b[49m\n\u001b[1;32m    295\u001b[0m \u001b[43m    \u001b[49m\u001b[43mnum_threads\u001b[49m\u001b[38;5;241;43m=\u001b[39;49m\u001b[43mnum_threads\u001b[49m\u001b[43m,\u001b[49m\n\u001b[1;32m    296\u001b[0m \u001b[43m\u001b[49m\u001b[43m)\u001b[49m\n\u001b[1;32m    297\u001b[0m c \u001b[38;5;241m=\u001b[39m \u001b[38;5;241m2.0\u001b[39m \u001b[38;5;241m*\u001b[39m (degrees_of_freedom \u001b[38;5;241m+\u001b[39m \u001b[38;5;241m1.0\u001b[39m) \u001b[38;5;241m/\u001b[39m degrees_of_freedom\n\u001b[1;32m    298\u001b[0m grad \u001b[38;5;241m=\u001b[39m grad\u001b[38;5;241m.\u001b[39mravel()\n",
      "\u001b[0;31mKeyboardInterrupt\u001b[0m: "
     ]
    }
   ],
   "source": [
    "# Apply t-SNE\n",
    "print(\"Applying t-SNE for Dimensionality Reduction...\")\n",
    "tsne = TSNE(n_components=2, perplexity=30, n_iter=3000, random_state=42)\n",
    "\n",
    "# Create a simulated gauge to show progress\n",
    "total_iterations = 3000\n",
    "with tqdm(total=total_iterations, desc=\"Applying t-SNE\") as pbar:\n",
    "    for i in range(100):  # Simulate 100 steps of progress\n",
    "        time.sleep(0.03)  # Simulate the process\n",
    "        pbar.update(total_iterations // 100)  # Update the progress bar\n",
    "    # Fit t-SNE (this step might take time without internal progress feedback)\n",
    "    bow_tsne = tsne.fit_transform(bow_matrix.toarray())\n",
    "\n",
    "# Plot the result of t-SNE\n",
    "plt.figure(figsize=(10, 6))\n",
    "plt.scatter(bow_tsne[:, 0], bow_tsne[:, 1], s=10, cmap='viridis')\n",
    "plt.title(\"t-SNE Projection of BoW Data\")\n",
    "plt.xlabel(\"t-SNE Component 1\")\n",
    "plt.ylabel(\"t-SNE Component 2\")\n",
    "plt.show()"
   ]
  }
 ],
 "metadata": {
  "kernelspec": {
   "display_name": "Python 3",
   "language": "python",
   "name": "python3"
  },
  "language_info": {
   "codemirror_mode": {
    "name": "ipython",
    "version": 3
   },
   "file_extension": ".py",
   "mimetype": "text/x-python",
   "name": "python",
   "nbconvert_exporter": "python",
   "pygments_lexer": "ipython3",
   "version": "3.12.5"
  }
 },
 "nbformat": 4,
 "nbformat_minor": 2
}
