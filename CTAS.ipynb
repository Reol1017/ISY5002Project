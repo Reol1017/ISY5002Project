{
 "cells": [
  {
   "cell_type": "code",
   "execution_count": null,
   "id": "71c95a21-3a4b-4b49-883a-b353635d0a19",
   "metadata": {},
   "outputs": [],
   "source": [
    "import pandas as pd\n",
    "import numpy as np\n",
    "import matplotlib.pyplot as plt\n",
    "import seaborn as sns\n",
    "from sklearn.model_selection import train_test_split\n",
    "from sklearn.preprocessing import StandardScaler\n",
    "from sklearn.linear_model import LogisticRegression\n",
    "from sklearn.ensemble import RandomForestClassifier\n",
    "from sklearn.svm import SVC\n",
    "from sklearn.neighbors import KNeighborsClassifier\n",
    "from sklearn.naive_bayes import GaussianNB\n",
    "from sklearn.metrics import accuracy_score, confusion_matrix, classification_report"
   ]
  },
  {
   "cell_type": "code",
   "execution_count": null,
   "id": "a0bae14a-43cd-499a-b985-8f5969d6be66",
   "metadata": {},
   "outputs": [],
   "source": [
    "# Load the dataset\n",
    "data = pd.read_csv(\"data_after_EDA.csv\")\n",
    "nlp_data = pd.read_csv('updated_dataset.csv', usecols=['Main Diagnosis'] + ['word_' + str(i) for i in range(100)])\n",
    "\n",
    "# Drop the 'Main Diagnosis' column\n",
    "data.drop(columns=['Hospital','Deparment','Main Diagnosis','Discharge Time'], inplace=True)\n",
    "\n",
    "# Convert Arrival Time and Discharge Time to datetime\n",
    "data['Arrival Time'] = pd.to_datetime(data['Arrival Time'])\n",
    "data['Hour'] = data['Arrival Time'].dt.hour\n",
    "data['DayOfYear'] = data['Arrival Time'].dt.dayofyear\n",
    "\n",
    "# Convert the 'Severity Level' column to numerical\n",
    "level_mapping = {\n",
    "    'Level Ⅰ': 1,\n",
    "    'Level Ⅱ': 2,\n",
    "    'Level Ⅲ': 3,\n",
    "    'Level Ⅳ': 4,\n",
    "    'Level Ⅴ': 5,\n",
    "    'Unrated': 0\n",
    "}\n",
    "\n",
    "data['Severity Level'] = data['Severity Level'].replace(level_mapping)\n",
    "data['Severity Level'] = data['Severity Level'].astype(int)"
   ]
  },
  {
   "cell_type": "code",
   "execution_count": null,
   "id": "80fb72e2-be3f-46f7-8372-ddffb827b3e8",
   "metadata": {},
   "outputs": [],
   "source": [
    "# Grouping the KTAS classes into emergency (1) and non-emergency (0)\n",
    "data[\"Emergency\"] = np.where(data[\"Severity Level\"] < 4, 1, 0)\n",
    "print(data.head())\n",
    "\n",
    "# Count the values in Emergency\n",
    "CTAS_counts = data['Emergency'].value_counts()\n",
    "\n",
    "# Create a bar plot\n",
    "plt.figure(figsize=(6, 4))\n",
    "sns.barplot(x=CTAS_counts.index, y=CTAS_counts.values, palette='viridis')\n",
    "\n",
    "# Set the labels and title\n",
    "plt.xlabel('CTAS Score', size=12)\n",
    "plt.ylabel('Count', size=12)\n",
    "plt.title('Updated Breakdown of CTAS Scores', size=14)\n",
    "\n",
    "# Show the plot\n",
    "plt.xticks(ticks=[0, 1], labels=['Non-Emergency (0)', 'Emergency (1)'])  # Customize x-ticks if necessary\n",
    "plt.show()"
   ]
  },
  {
   "cell_type": "code",
   "execution_count": null,
   "id": "7ec2af98-7bbc-47f5-a18d-7b9cdfda71df",
   "metadata": {},
   "outputs": [],
   "source": [
    "# Combine the data with the NLP data\n",
    "combined_data = data.join(nlp_data, how='left')\n",
    "print(combined_data.head())"
   ]
  },
  {
   "cell_type": "code",
   "execution_count": null,
   "id": "459d0edf-c260-471a-9c09-ac929f53aa6f",
   "metadata": {},
   "outputs": [],
   "source": [
    "from sklearn.preprocessing import LabelEncoder\n",
    "data['Waiting Time (Minutes)'] = data['Waiting Time (Minutes)'].astype(int)\n",
    "data['Length of Stay (Minutes)'] = data['Length of Stay (Minutes)'].astype(int)\n",
    "data['Treatment Time(Minutes)'] = data['Treatment Time(Minutes)'].astype(int)\n",
    "\n",
    "label_encoders = {}\n",
    "for column in ['Eligibility Class', 'Gender']:\n",
    "    le = LabelEncoder()\n",
    "    combined_data[column] = le.fit_transform(combined_data[column])\n",
    "    label_encoders[column] = le\n",
    "\n",
    "# Select features\n",
    "features = combined_data[['Eligibility Class', 'Gender', 'Waiting Time (Minutes)', 'Length of Stay (Minutes)', 'Treatment Time(Minutes)', 'Cluster', 'No Treatment'] + [f'word_{i}' for i in range(100)]]\n",
    "target = combined_data['Severity Level']\n",
    "\n",
    "X_train, X_test, y_train, y_test = train_test_split(features, target, test_size=0.2, random_state=42)\n",
    "print(X_train.dtypes)"
   ]
  },
  {
   "cell_type": "code",
   "execution_count": null,
   "id": "2c031627-49a3-4758-b7e1-50270d553d5a",
   "metadata": {},
   "outputs": [],
   "source": [
    "# Initialize classifiers\n",
    "classifiers = {\n",
    "    'Logistic Regression': LogisticRegression(max_iter=200),\n",
    "    'Random Forest': RandomForestClassifier(),\n",
    "    'SVM': SVC(),\n",
    "    'KNN': KNeighborsClassifier(),\n",
    "    'Naive Bayes': GaussianNB()\n",
    "}\n",
    "\n",
    "# Train\n",
    "results = {}\n",
    "for name, clf in classifiers.items():\n",
    "    # Fit the model\n",
    "    clf.fit(X_train, y_train)\n",
    "    \n",
    "    # Make predictions\n",
    "    y_pred = clf.predict(X_test)\n",
    "    \n",
    "    # Calculate accuracy\n",
    "    accuracy = accuracy_score(y_test, y_pred)\n",
    "    report = classification_report(y_test, y_pred)\n",
    "    confusion = confusion_matrix(y_test, y_pred)\n",
    "    results[name] = {'accuracy': accuracy, 'report': report, 'confusion_matrix': confusion}"
   ]
  },
  {
   "cell_type": "code",
   "execution_count": null,
   "id": "44a0ea90-6ff0-4d53-bddd-65c48bee985b",
   "metadata": {},
   "outputs": [],
   "source": [
    "# Evaluate each classifier\n",
    "for name, result in results.items():\n",
    "    print(f\"Model: {name}\")\n",
    "    print(\"Accuracy:\", result['accuracy'])\n",
    "    print(\"Classification Report:\")\n",
    "    print(result['report'])\n",
    "    sns.heatmap(result['confusion_matrix'], annot=True, fmt=\"d\")\n",
    "    plt.title(f'Confusion Matrix for {name}')\n",
    "    plt.show()"
   ]
  }
 ],
 "metadata": {
  "kernelspec": {
   "display_name": "Python 3 (ipykernel)",
   "language": "python",
   "name": "python3"
  },
  "language_info": {
   "codemirror_mode": {
    "name": "ipython",
    "version": 3
   },
   "file_extension": ".py",
   "mimetype": "text/x-python",
   "name": "python",
   "nbconvert_exporter": "python",
   "pygments_lexer": "ipython3",
   "version": "3.10.11"
  }
 },
 "nbformat": 4,
 "nbformat_minor": 5
}
