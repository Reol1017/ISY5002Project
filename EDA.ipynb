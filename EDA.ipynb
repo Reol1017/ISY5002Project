{
 "cells": [
  {
   "cell_type": "code",
   "execution_count": null,
   "id": "78922755-25fa-46bd-b287-549333aa0cde",
   "metadata": {},
   "outputs": [],
   "source": []
  },
  {
   "cell_type": "code",
   "execution_count": null,
   "id": "bde79408-0170-4935-8f48-508125787392",
   "metadata": {},
   "outputs": [],
   "source": []
  },
  {
   "cell_type": "markdown",
   "id": "4955d923-14aa-46a8-b905-29af434535fb",
   "metadata": {},
   "source": [
    "# 1. Data Preprocessing"
   ]
  },
  {
   "cell_type": "code",
   "execution_count": 1,
   "id": "7887aea4-3c58-48cd-814f-17df408627a0",
   "metadata": {
    "tags": []
   },
   "outputs": [],
   "source": [
    "# Import Library\n",
    "import numpy as np  #numPy library for numerical and array operation\n",
    "import pandas as pd #pandas library for data manipulation and analysis\n",
    "import matplotlib.pyplot as plt #matplotlib library for data visualization\n",
    "from sklearn.preprocessing import StandardScaler #the StandardScaler class from scikit-learn's preprocessing module\n",
    "from sklearn import metrics #the metrics module from scikit-learn for evaluating machine learning models\n",
    "import warnings  #the warnings module to handle warnings during code execution\n",
    "import seaborn as sns #the seaborn library for data visualization\n",
    "from numpy import set_printoptions\n",
    "from sklearn.preprocessing import LabelEncoder\n",
    "\n",
    "warnings.filterwarnings('ignore')\n",
    "%matplotlib inline"
   ]
  },
  {
   "cell_type": "markdown",
   "id": "03a1c247-1a1d-477d-b3ea-fe4db27ea364",
   "metadata": {},
   "source": [
    "### 1.1 Load Dataset"
   ]
  },
  {
   "cell_type": "code",
   "execution_count": 2,
   "id": "f9a1ab8b-340d-459b-8491-0fa36bdb81be",
   "metadata": {
    "tags": []
   },
   "outputs": [
    {
     "data": {
      "text/html": [
       "<div>\n",
       "<style scoped>\n",
       "    .dataframe tbody tr th:only-of-type {\n",
       "        vertical-align: middle;\n",
       "    }\n",
       "\n",
       "    .dataframe tbody tr th {\n",
       "        vertical-align: top;\n",
       "    }\n",
       "\n",
       "    .dataframe thead th {\n",
       "        text-align: right;\n",
       "    }\n",
       "</style>\n",
       "<table border=\"1\" class=\"dataframe\">\n",
       "  <thead>\n",
       "    <tr style=\"text-align: right;\">\n",
       "      <th></th>\n",
       "      <th>ROWNUM</th>\n",
       "      <th>Hospital</th>\n",
       "      <th>Eligibility Class</th>\n",
       "      <th>Gender</th>\n",
       "      <th>Arrival Time</th>\n",
       "      <th>Severity Level</th>\n",
       "      <th>Deparment</th>\n",
       "      <th>Main Diagnosis</th>\n",
       "      <th>Discharge Time</th>\n",
       "      <th>Waiting Time (Minutes)</th>\n",
       "      <th>Length of Stay (Minutes)</th>\n",
       "    </tr>\n",
       "  </thead>\n",
       "  <tbody>\n",
       "    <tr>\n",
       "      <th>0</th>\n",
       "      <td>1</td>\n",
       "      <td>Royal Commission Health Services Program</td>\n",
       "      <td>ROYAL COMMISSION</td>\n",
       "      <td>Female</td>\n",
       "      <td>12/13/2023 13:17:48</td>\n",
       "      <td>Level Ⅳ</td>\n",
       "      <td>Emergency Medicine</td>\n",
       "      <td>Pain, unspecified</td>\n",
       "      <td>12/13/2023 16:43:00</td>\n",
       "      <td>14.0</td>\n",
       "      <td>205</td>\n",
       "    </tr>\n",
       "    <tr>\n",
       "      <th>1</th>\n",
       "      <td>2</td>\n",
       "      <td>Royal Commission Health Services Program</td>\n",
       "      <td>ROYAL COMMISSION</td>\n",
       "      <td>Female</td>\n",
       "      <td>12/08/2023 10:59:28</td>\n",
       "      <td>Level Ⅲ</td>\n",
       "      <td>Emergency Medicine</td>\n",
       "      <td>Low back pain</td>\n",
       "      <td>12/08/2023 12:50:00</td>\n",
       "      <td>7.0</td>\n",
       "      <td>111</td>\n",
       "    </tr>\n",
       "    <tr>\n",
       "      <th>2</th>\n",
       "      <td>3</td>\n",
       "      <td>Royal Commission Health Services Program</td>\n",
       "      <td>ROYAL COMMISSION</td>\n",
       "      <td>Female</td>\n",
       "      <td>11/05/2023 14:03:02</td>\n",
       "      <td>Level Ⅲ</td>\n",
       "      <td>Emergency Medicine</td>\n",
       "      <td>Acute upper respiratory infection, unspecified</td>\n",
       "      <td>11/05/2023 14:54:00</td>\n",
       "      <td>24.0</td>\n",
       "      <td>51</td>\n",
       "    </tr>\n",
       "    <tr>\n",
       "      <th>3</th>\n",
       "      <td>4</td>\n",
       "      <td>Royal Commission Health Services Program</td>\n",
       "      <td>ROYAL COMMISSION</td>\n",
       "      <td>Female</td>\n",
       "      <td>10/07/2023 22:57:41</td>\n",
       "      <td>Level Ⅲ</td>\n",
       "      <td>Emergency Medicine</td>\n",
       "      <td>Epistaxis</td>\n",
       "      <td>10/08/2023 00:09:00</td>\n",
       "      <td>NaN</td>\n",
       "      <td>71</td>\n",
       "    </tr>\n",
       "    <tr>\n",
       "      <th>4</th>\n",
       "      <td>5</td>\n",
       "      <td>Royal Commission Health Services Program</td>\n",
       "      <td>ROYAL COMMISSION</td>\n",
       "      <td>Female</td>\n",
       "      <td>10/21/2023 21:32:17</td>\n",
       "      <td>Level Ⅳ</td>\n",
       "      <td>Emergency Medicine</td>\n",
       "      <td>Acute upper respiratory infection, unspecified</td>\n",
       "      <td>10/21/2023 23:10:00</td>\n",
       "      <td>56.0</td>\n",
       "      <td>98</td>\n",
       "    </tr>\n",
       "  </tbody>\n",
       "</table>\n",
       "</div>"
      ],
      "text/plain": [
       "  ROWNUM                                  Hospital Eligibility Class  Gender  \\\n",
       "0      1  Royal Commission Health Services Program  ROYAL COMMISSION  Female   \n",
       "1      2  Royal Commission Health Services Program  ROYAL COMMISSION  Female   \n",
       "2      3  Royal Commission Health Services Program  ROYAL COMMISSION  Female   \n",
       "3      4  Royal Commission Health Services Program  ROYAL COMMISSION  Female   \n",
       "4      5  Royal Commission Health Services Program  ROYAL COMMISSION  Female   \n",
       "\n",
       "          Arrival Time Severity Level           Deparment  \\\n",
       "0  12/13/2023 13:17:48        Level Ⅳ  Emergency Medicine   \n",
       "1  12/08/2023 10:59:28        Level Ⅲ  Emergency Medicine   \n",
       "2  11/05/2023 14:03:02        Level Ⅲ  Emergency Medicine   \n",
       "3  10/07/2023 22:57:41        Level Ⅲ  Emergency Medicine   \n",
       "4  10/21/2023 21:32:17        Level Ⅳ  Emergency Medicine   \n",
       "\n",
       "                                   Main Diagnosis       Discharge Time  \\\n",
       "0                               Pain, unspecified  12/13/2023 16:43:00   \n",
       "1                                   Low back pain  12/08/2023 12:50:00   \n",
       "2  Acute upper respiratory infection, unspecified  11/05/2023 14:54:00   \n",
       "3                                       Epistaxis  10/08/2023 00:09:00   \n",
       "4  Acute upper respiratory infection, unspecified  10/21/2023 23:10:00   \n",
       "\n",
       "   Waiting Time (Minutes) Length of Stay (Minutes)  \n",
       "0                    14.0                      205  \n",
       "1                     7.0                      111  \n",
       "2                    24.0                       51  \n",
       "3                     NaN                       71  \n",
       "4                    56.0                       98  "
      ]
     },
     "execution_count": 2,
     "metadata": {},
     "output_type": "execute_result"
    }
   ],
   "source": [
    "# Loading the dataset\n",
    "data = pd.read_csv('emergency cases in RCHSP 2023.csv')\n",
    "# Print the first 5 rows of the dataframe.\n",
    "data.head()"
   ]
  },
  {
   "cell_type": "code",
   "execution_count": 4,
   "id": "06ef6430-0928-4f7e-99ed-92a78227c04f",
   "metadata": {
    "tags": []
   },
   "outputs": [
    {
     "data": {
      "text/plain": [
       "(97096, 11)"
      ]
     },
     "execution_count": 4,
     "metadata": {},
     "output_type": "execute_result"
    }
   ],
   "source": [
    "data.shape"
   ]
  },
  {
   "cell_type": "markdown",
   "id": "c6454fc6-6a01-40b5-a962-28d105ee4564",
   "metadata": {},
   "source": [
    "### 1.2 Observing the data"
   ]
  },
  {
   "cell_type": "code",
   "execution_count": 5,
   "id": "9dc9210b-9376-429f-8642-3c38b9fea5d5",
   "metadata": {
    "tags": []
   },
   "outputs": [
    {
     "name": "stdout",
     "output_type": "stream",
     "text": [
      "<class 'pandas.core.frame.DataFrame'>\n",
      "RangeIndex: 97096 entries, 0 to 97095\n",
      "Data columns (total 11 columns):\n",
      " #   Column                    Non-Null Count  Dtype  \n",
      "---  ------                    --------------  -----  \n",
      " 0   ROWNUM                    97096 non-null  object \n",
      " 1   Hospital                  97096 non-null  object \n",
      " 2   Eligibility Class         97055 non-null  object \n",
      " 3   Gender                    97096 non-null  object \n",
      " 4   Arrival Time              97096 non-null  object \n",
      " 5   Severity Level            95130 non-null  object \n",
      " 6   Deparment                 97096 non-null  object \n",
      " 7   Main Diagnosis            93826 non-null  object \n",
      " 8   Discharge Time            97087 non-null  object \n",
      " 9   Waiting Time (Minutes)    92419 non-null  float64\n",
      " 10  Length of Stay (Minutes)  97087 non-null  object \n",
      "dtypes: float64(1), object(10)\n",
      "memory usage: 8.1+ MB\n"
     ]
    }
   ],
   "source": [
    "data.info()"
   ]
  },
  {
   "cell_type": "code",
   "execution_count": 6,
   "id": "a74fc37f-035f-497f-8821-e92f0636395d",
   "metadata": {
    "tags": []
   },
   "outputs": [
    {
     "name": "stdout",
     "output_type": "stream",
     "text": [
      "['Pain, unspecified' 'Low back pain'\n",
      " 'Acute upper respiratory infection, unspecified' ...\n",
      " 'Feeding problem of newborn, unspecified' 'Haemangioma, unspecified site'\n",
      " 'Neonatal erythema toxicum']\n"
     ]
    }
   ],
   "source": [
    "# Display the \"Make\" coloumn to understand the content\n",
    "print(data[\"Main Diagnosis\"].unique()) #Get the unique values in the \"Make\" column "
   ]
  },
  {
   "cell_type": "code",
   "execution_count": 8,
   "id": "5d435369-4983-4bc9-ac7c-3bfcec1a5edf",
   "metadata": {
    "tags": []
   },
   "outputs": [
    {
     "data": {
      "text/plain": [
       "1784"
      ]
     },
     "execution_count": 8,
     "metadata": {},
     "output_type": "execute_result"
    }
   ],
   "source": [
    "data['Main Diagnosis'].nunique()"
   ]
  },
  {
   "cell_type": "code",
   "execution_count": 9,
   "id": "a3874e86-65b4-47c8-96db-d243d36fc0b2",
   "metadata": {
    "tags": []
   },
   "outputs": [
    {
     "data": {
      "text/plain": [
       "ROWNUM                         0\n",
       "Hospital                       0\n",
       "Eligibility Class             41\n",
       "Gender                         0\n",
       "Arrival Time                   0\n",
       "Severity Level              1966\n",
       "Deparment                      0\n",
       "Main Diagnosis              3270\n",
       "Discharge Time                 9\n",
       "Waiting Time (Minutes)      4677\n",
       "Length of Stay (Minutes)       9\n",
       "dtype: int64"
      ]
     },
     "execution_count": 9,
     "metadata": {},
     "output_type": "execute_result"
    }
   ],
   "source": [
    "# calculate and store the count of missing (NaN) values in each column of the DataFrame 'data' \n",
    "data.isnull().sum()"
   ]
  },
  {
   "cell_type": "code",
   "execution_count": 10,
   "id": "8880afe6-2f74-4519-8847-522bdb863d99",
   "metadata": {
    "tags": []
   },
   "outputs": [
    {
     "data": {
      "text/html": [
       "<div>\n",
       "<style scoped>\n",
       "    .dataframe tbody tr th:only-of-type {\n",
       "        vertical-align: middle;\n",
       "    }\n",
       "\n",
       "    .dataframe tbody tr th {\n",
       "        vertical-align: top;\n",
       "    }\n",
       "\n",
       "    .dataframe thead th {\n",
       "        text-align: right;\n",
       "    }\n",
       "</style>\n",
       "<table border=\"1\" class=\"dataframe\">\n",
       "  <thead>\n",
       "    <tr style=\"text-align: right;\">\n",
       "      <th></th>\n",
       "      <th>Waiting Time (Minutes)</th>\n",
       "    </tr>\n",
       "  </thead>\n",
       "  <tbody>\n",
       "    <tr>\n",
       "      <th>count</th>\n",
       "      <td>92419.00000</td>\n",
       "    </tr>\n",
       "    <tr>\n",
       "      <th>mean</th>\n",
       "      <td>31.78995</td>\n",
       "    </tr>\n",
       "    <tr>\n",
       "      <th>std</th>\n",
       "      <td>22.85905</td>\n",
       "    </tr>\n",
       "    <tr>\n",
       "      <th>min</th>\n",
       "      <td>0.00000</td>\n",
       "    </tr>\n",
       "    <tr>\n",
       "      <th>25%</th>\n",
       "      <td>15.00000</td>\n",
       "    </tr>\n",
       "    <tr>\n",
       "      <th>50%</th>\n",
       "      <td>26.00000</td>\n",
       "    </tr>\n",
       "    <tr>\n",
       "      <th>75%</th>\n",
       "      <td>42.00000</td>\n",
       "    </tr>\n",
       "    <tr>\n",
       "      <th>max</th>\n",
       "      <td>417.00000</td>\n",
       "    </tr>\n",
       "  </tbody>\n",
       "</table>\n",
       "</div>"
      ],
      "text/plain": [
       "      Waiting Time (Minutes)\n",
       "count            92419.00000\n",
       "mean                31.78995\n",
       "std                 22.85905\n",
       "min                  0.00000\n",
       "25%                 15.00000\n",
       "50%                 26.00000\n",
       "75%                 42.00000\n",
       "max                417.00000"
      ]
     },
     "execution_count": 10,
     "metadata": {},
     "output_type": "execute_result"
    }
   ],
   "source": [
    "# Apply a formatting fuction to the summary statistics to round value to 5 d.p\n",
    "data.describe().apply(lambda s: s.apply('{0:.5f}'.format))"
   ]
  },
  {
   "cell_type": "code",
   "execution_count": null,
   "id": "ce581918-b1c0-4aad-9979-cb45a7138159",
   "metadata": {},
   "outputs": [],
   "source": []
  }
 ],
 "metadata": {
  "kernelspec": {
   "display_name": "Python 3 (ipykernel)",
   "language": "python",
   "name": "python3"
  },
  "language_info": {
   "codemirror_mode": {
    "name": "ipython",
    "version": 3
   },
   "file_extension": ".py",
   "mimetype": "text/x-python",
   "name": "python",
   "nbconvert_exporter": "python",
   "pygments_lexer": "ipython3",
   "version": "3.8.17"
  }
 },
 "nbformat": 4,
 "nbformat_minor": 5
}
