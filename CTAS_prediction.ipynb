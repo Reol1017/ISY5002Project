{
 "cells": [
  {
   "cell_type": "code",
   "execution_count": 17,
   "id": "1a38012f",
   "metadata": {},
   "outputs": [],
   "source": [
    "import pandas as pd\n",
    "import numpy as np\n",
    "import matplotlib.pyplot as plt\n",
    "import seaborn as sns\n",
    "from sklearn.model_selection import train_test_split\n",
    "from sklearn.preprocessing import StandardScaler\n",
    "from sklearn.linear_model import LogisticRegression\n",
    "from sklearn.ensemble import RandomForestClassifier\n",
    "from sklearn.svm import SVC\n",
    "from sklearn.neighbors import KNeighborsClassifier\n",
    "from sklearn.naive_bayes import GaussianNB\n",
    "from sklearn.metrics import accuracy_score, confusion_matrix, classification_report"
   ]
  },
  {
   "cell_type": "code",
   "execution_count": 18,
   "id": "7249b41a",
   "metadata": {},
   "outputs": [],
   "source": [
    "# Load the dataset\n",
    "data = pd.read_csv(\"data_after_EDA.csv\")\n",
    "nlp_data = pd.read_csv('updated_dataset.csv', usecols=['Main Diagnosis'] + ['word_' + str(i) for i in range(100)])\n",
    "\n",
    "# Drop the 'Main Diagnosis' column\n",
    "data.drop(columns=['Hospital','Deparment','Main Diagnosis','Discharge Time'], inplace=True)\n",
    "\n",
    "# Convert Arrival Time and Discharge Time to datetime\n",
    "data['Arrival Time'] = pd.to_datetime(data['Arrival Time'])\n",
    "data['Hour'] = data['Arrival Time'].dt.hour\n",
    "data['DayOfYear'] = data['Arrival Time'].dt.dayofyear\n",
    "\n",
    "# Convert the 'Severity Level' column to numerical\n",
    "level_mapping = {\n",
    "    'Level Ⅰ': 1,\n",
    "    'Level Ⅱ': 2,\n",
    "    'Level Ⅲ': 3,\n",
    "    'Level Ⅳ': 4,\n",
    "    'Level Ⅴ': 5,\n",
    "    'Unrated': 0\n",
    "}\n",
    "\n",
    "data['Severity Level'] = data['Severity Level'].replace(level_mapping)\n",
    "data['Severity Level'] = data['Severity Level'].astype(int)"
   ]
  },
  {
   "cell_type": "code",
   "execution_count": 19,
   "id": "9466230b",
   "metadata": {},
   "outputs": [
    {
     "name": "stdout",
     "output_type": "stream",
     "text": [
      "  ROWNUM Eligibility Class  Gender        Arrival Time  Severity Level  \\\n",
      "0      1  ROYAL COMMISSION  Female 2023-12-13 13:17:48               4   \n",
      "1      2  ROYAL COMMISSION  Female 2023-12-08 10:59:28               3   \n",
      "2      3  ROYAL COMMISSION  Female 2023-11-05 14:03:02               3   \n",
      "3      4  ROYAL COMMISSION  Female 2023-10-07 22:57:41               3   \n",
      "4      5  ROYAL COMMISSION  Female 2023-10-21 21:32:17               4   \n",
      "\n",
      "   Waiting Time (Minutes)  Length of Stay (Minutes)  Treatment Time(Minutes)  \\\n",
      "0                    14.0                     205.0                    191.0   \n",
      "1                     7.0                     111.0                    104.0   \n",
      "2                    24.0                      51.0                     27.0   \n",
      "3                    26.0                      71.0                      0.0   \n",
      "4                    56.0                      98.0                     42.0   \n",
      "\n",
      "   Cluster  No Treatment  Hour  DayOfYear  Emergency  \n",
      "0        2             0    13        347          0  \n",
      "1        1             0    10        342          1  \n",
      "2        1             0    14        309          1  \n",
      "3        1             1    22        280          1  \n",
      "4        0             0    21        294          0  \n"
     ]
    },
    {
     "data": {
      "image/png": "[encoded data removed]",
      "text/plain": [
       "<Figure size 600x400 with 1 Axes>"
      ]
     },
     "metadata": {},
     "output_type": "display_data"
    }
   ],
   "source": [
    "# Grouping the KTAS classes into emergency (1) and non-emergency (0)\n",
    "data[\"Emergency\"] = np.where(data[\"Severity Level\"] < 4, 1, 0)\n",
    "print(data.head())\n",
    "\n",
    "# Count the values in Emergency\n",
    "CTAS_counts = data['Emergency'].value_counts()\n",
    "\n",
    "# Create a bar plot\n",
    "plt.figure(figsize=(6, 4))\n",
    "sns.barplot(x=CTAS_counts.index, y=CTAS_counts.values, palette='viridis')\n",
    "\n",
    "# Set the labels and title\n",
    "plt.xlabel('CTAS Score', size=12)\n",
    "plt.ylabel('Count', size=12)\n",
    "plt.title('Updated Breakdown of CTAS Scores', size=14)\n",
    "\n",
    "# Show the plot\n",
    "plt.xticks(ticks=[0, 1], labels=['Non-Emergency (0)', 'Emergency (1)'])  # Customize x-ticks if necessary\n",
    "plt.show()"
   ]
  },
  {
   "cell_type": "code",
   "execution_count": 20,
   "id": "facd4e30",
   "metadata": {},
   "outputs": [
    {
     "name": "stdout",
     "output_type": "stream",
     "text": [
      "  ROWNUM Eligibility Class  Gender        Arrival Time  Severity Level  \\\n",
      "0      1  ROYAL COMMISSION  Female 2023-12-13 13:17:48               4   \n",
      "1      2  ROYAL COMMISSION  Female 2023-12-08 10:59:28               3   \n",
      "2      3  ROYAL COMMISSION  Female 2023-11-05 14:03:02               3   \n",
      "3      4  ROYAL COMMISSION  Female 2023-10-07 22:57:41               3   \n",
      "4      5  ROYAL COMMISSION  Female 2023-10-21 21:32:17               4   \n",
      "\n",
      "   Waiting Time (Minutes)  Length of Stay (Minutes)  Treatment Time(Minutes)  \\\n",
      "0                    14.0                     205.0                    191.0   \n",
      "1                     7.0                     111.0                    104.0   \n",
      "2                    24.0                      51.0                     27.0   \n",
      "3                    26.0                      71.0                      0.0   \n",
      "4                    56.0                      98.0                     42.0   \n",
      "\n",
      "   Cluster  No Treatment  ...  word_90  word_91  word_92 word_93  word_94  \\\n",
      "0        2             0  ...        0        0        0       0        0   \n",
      "1        1             0  ...        0        0        0       0        0   \n",
      "2        1             0  ...        0        0        0       0        0   \n",
      "3        1             1  ...        0        0        0       0        0   \n",
      "4        0             0  ...        0        0        0       0        0   \n",
      "\n",
      "   word_95  word_96  word_97  word_98  word_99  \n",
      "0        0        0        0        0        0  \n",
      "1        0        0        0        0        0  \n",
      "2        0        0        0        0        0  \n",
      "3        0        0        0        0        0  \n",
      "4        0        0        0        0        0  \n",
      "\n",
      "[5 rows x 114 columns]\n"
     ]
    }
   ],
   "source": [
    "# Combine the data with the NLP data\n",
    "combined_data = data.join(nlp_data, how='left')\n",
    "print(combined_data.head())"
   ]
  },
  {
   "cell_type": "code",
   "execution_count": 21,
   "id": "7567dc1c",
   "metadata": {},
   "outputs": [
    {
     "name": "stdout",
     "output_type": "stream",
     "text": [
      "Eligibility Class             int32\n",
      "Gender                        int32\n",
      "Waiting Time (Minutes)      float64\n",
      "Length of Stay (Minutes)    float64\n",
      "Treatment Time(Minutes)     float64\n",
      "                             ...   \n",
      "word_95                       int64\n",
      "word_96                       int64\n",
      "word_97                       int64\n",
      "word_98                       int64\n",
      "word_99                       int64\n",
      "Length: 107, dtype: object\n"
     ]
    }
   ],
   "source": [
    "from sklearn.preprocessing import LabelEncoder\n",
    "data['Waiting Time (Minutes)'] = data['Waiting Time (Minutes)'].astype(int)\n",
    "data['Length of Stay (Minutes)'] = data['Length of Stay (Minutes)'].astype(int)\n",
    "data['Treatment Time(Minutes)'] = data['Treatment Time(Minutes)'].astype(int)\n",
    "\n",
    "label_encoders = {}\n",
    "for column in ['Eligibility Class', 'Gender']:\n",
    "    le = LabelEncoder()\n",
    "    combined_data[column] = le.fit_transform(combined_data[column])\n",
    "    label_encoders[column] = le\n",
    "\n",
    "# Select features\n",
    "features = combined_data[['Eligibility Class', 'Gender', 'Waiting Time (Minutes)', 'Length of Stay (Minutes)', 'Treatment Time(Minutes)', 'Cluster', 'No Treatment'] + [f'word_{i}' for i in range(100)]]\n",
    "target = combined_data['Severity Level']\n",
    "\n",
    "X_train, X_test, y_train, y_test = train_test_split(features, target, test_size=0.2, random_state=42)\n",
    "print(X_train.dtypes)\n"
   ]
  },
  {
   "cell_type": "code",
   "execution_count": 22,
   "id": "d5bf46fe",
   "metadata": {},
   "outputs": [
    {
     "name": "stderr",
     "output_type": "stream",
     "text": [
      "d:\\Anaconda3\\envs\\prmls_new\\lib\\site-packages\\sklearn\\linear_model\\logistic.py:432: FutureWarning: Default solver will be changed to 'lbfgs' in 0.22. Specify a solver to silence this warning.\n",
      "  FutureWarning)\n",
      "d:\\Anaconda3\\envs\\prmls_new\\lib\\site-packages\\sklearn\\linear_model\\logistic.py:469: FutureWarning: Default multi_class will be changed to 'auto' in 0.22. Specify the multi_class option to silence this warning.\n",
      "  \"this warning.\", FutureWarning)\n",
      "d:\\Anaconda3\\envs\\prmls_new\\lib\\site-packages\\sklearn\\metrics\\classification.py:1437: UndefinedMetricWarning: Precision and F-score are ill-defined and being set to 0.0 in labels with no predicted samples.\n",
      "  'precision', 'predicted', average, warn_for)\n",
      "d:\\Anaconda3\\envs\\prmls_new\\lib\\site-packages\\sklearn\\ensemble\\forest.py:245: FutureWarning: The default value of n_estimators will change from 10 in version 0.20 to 100 in 0.22.\n",
      "  \"10 in version 0.20 to 100 in 0.22.\", FutureWarning)\n",
      "d:\\Anaconda3\\envs\\prmls_new\\lib\\site-packages\\sklearn\\ensemble\\forest.py:489: DeprecationWarning: `np.int` is a deprecated alias for the builtin `int`. To silence this warning, use `int` by itself. Doing this will not modify any behavior and is safe. When replacing `np.int`, you may wish to use e.g. `np.int64` or `np.int32` to specify the precision. If you wish to review your current use, check the release note link for additional information.\n",
      "Deprecated in NumPy 1.20; for more details and guidance: https://numpy.org/devdocs/release/1.20.0-notes.html#deprecations\n",
      "  y_store_unique_indices = np.zeros(y.shape, dtype=np.int)\n",
      "d:\\Anaconda3\\envs\\prmls_new\\lib\\site-packages\\sklearn\\utils\\fixes.py:223: DeprecationWarning: distutils Version classes are deprecated. Use packaging.version instead.\n",
      "  if _joblib.__version__ >= LooseVersion('0.12'):\n",
      "d:\\Anaconda3\\envs\\prmls_new\\lib\\site-packages\\sklearn\\tree\\tree.py:163: DeprecationWarning: `np.int` is a deprecated alias for the builtin `int`. To silence this warning, use `int` by itself. Doing this will not modify any behavior and is safe. When replacing `np.int`, you may wish to use e.g. `np.int64` or `np.int32` to specify the precision. If you wish to review your current use, check the release note link for additional information.\n",
      "Deprecated in NumPy 1.20; for more details and guidance: https://numpy.org/devdocs/release/1.20.0-notes.html#deprecations\n",
      "  y_encoded = np.zeros(y.shape, dtype=np.int)\n",
      "d:\\Anaconda3\\envs\\prmls_new\\lib\\site-packages\\sklearn\\tree\\tree.py:163: DeprecationWarning: `np.int` is a deprecated alias for the builtin `int`. To silence this warning, use `int` by itself. Doing this will not modify any behavior and is safe. When replacing `np.int`, you may wish to use e.g. `np.int64` or `np.int32` to specify the precision. If you wish to review your current use, check the release note link for additional information.\n",
      "Deprecated in NumPy 1.20; for more details and guidance: https://numpy.org/devdocs/release/1.20.0-notes.html#deprecations\n",
      "  y_encoded = np.zeros(y.shape, dtype=np.int)\n",
      "d:\\Anaconda3\\envs\\prmls_new\\lib\\site-packages\\sklearn\\tree\\tree.py:163: DeprecationWarning: `np.int` is a deprecated alias for the builtin `int`. To silence this warning, use `int` by itself. Doing this will not modify any behavior and is safe. When replacing `np.int`, you may wish to use e.g. `np.int64` or `np.int32` to specify the precision. If you wish to review your current use, check the release note link for additional information.\n",
      "Deprecated in NumPy 1.20; for more details and guidance: https://numpy.org/devdocs/release/1.20.0-notes.html#deprecations\n",
      "  y_encoded = np.zeros(y.shape, dtype=np.int)\n",
      "d:\\Anaconda3\\envs\\prmls_new\\lib\\site-packages\\sklearn\\tree\\tree.py:163: DeprecationWarning: `np.int` is a deprecated alias for the builtin `int`. To silence this warning, use `int` by itself. Doing this will not modify any behavior and is safe. When replacing `np.int`, you may wish to use e.g. `np.int64` or `np.int32` to specify the precision. If you wish to review your current use, check the release note link for additional information.\n",
      "Deprecated in NumPy 1.20; for more details and guidance: https://numpy.org/devdocs/release/1.20.0-notes.html#deprecations\n",
      "  y_encoded = np.zeros(y.shape, dtype=np.int)\n",
      "d:\\Anaconda3\\envs\\prmls_new\\lib\\site-packages\\sklearn\\tree\\tree.py:163: DeprecationWarning: `np.int` is a deprecated alias for the builtin `int`. To silence this warning, use `int` by itself. Doing this will not modify any behavior and is safe. When replacing `np.int`, you may wish to use e.g. `np.int64` or `np.int32` to specify the precision. If you wish to review your current use, check the release note link for additional information.\n",
      "Deprecated in NumPy 1.20; for more details and guidance: https://numpy.org/devdocs/release/1.20.0-notes.html#deprecations\n",
      "  y_encoded = np.zeros(y.shape, dtype=np.int)\n",
      "d:\\Anaconda3\\envs\\prmls_new\\lib\\site-packages\\sklearn\\tree\\tree.py:163: DeprecationWarning: `np.int` is a deprecated alias for the builtin `int`. To silence this warning, use `int` by itself. Doing this will not modify any behavior and is safe. When replacing `np.int`, you may wish to use e.g. `np.int64` or `np.int32` to specify the precision. If you wish to review your current use, check the release note link for additional information.\n",
      "Deprecated in NumPy 1.20; for more details and guidance: https://numpy.org/devdocs/release/1.20.0-notes.html#deprecations\n",
      "  y_encoded = np.zeros(y.shape, dtype=np.int)\n",
      "d:\\Anaconda3\\envs\\prmls_new\\lib\\site-packages\\sklearn\\tree\\tree.py:163: DeprecationWarning: `np.int` is a deprecated alias for the builtin `int`. To silence this warning, use `int` by itself. Doing this will not modify any behavior and is safe. When replacing `np.int`, you may wish to use e.g. `np.int64` or `np.int32` to specify the precision. If you wish to review your current use, check the release note link for additional information.\n",
      "Deprecated in NumPy 1.20; for more details and guidance: https://numpy.org/devdocs/release/1.20.0-notes.html#deprecations\n",
      "  y_encoded = np.zeros(y.shape, dtype=np.int)\n",
      "d:\\Anaconda3\\envs\\prmls_new\\lib\\site-packages\\sklearn\\tree\\tree.py:163: DeprecationWarning: `np.int` is a deprecated alias for the builtin `int`. To silence this warning, use `int` by itself. Doing this will not modify any behavior and is safe. When replacing `np.int`, you may wish to use e.g. `np.int64` or `np.int32` to specify the precision. If you wish to review your current use, check the release note link for additional information.\n",
      "Deprecated in NumPy 1.20; for more details and guidance: https://numpy.org/devdocs/release/1.20.0-notes.html#deprecations\n",
      "  y_encoded = np.zeros(y.shape, dtype=np.int)\n",
      "d:\\Anaconda3\\envs\\prmls_new\\lib\\site-packages\\sklearn\\tree\\tree.py:163: DeprecationWarning: `np.int` is a deprecated alias for the builtin `int`. To silence this warning, use `int` by itself. Doing this will not modify any behavior and is safe. When replacing `np.int`, you may wish to use e.g. `np.int64` or `np.int32` to specify the precision. If you wish to review your current use, check the release note link for additional information.\n",
      "Deprecated in NumPy 1.20; for more details and guidance: https://numpy.org/devdocs/release/1.20.0-notes.html#deprecations\n",
      "  y_encoded = np.zeros(y.shape, dtype=np.int)\n",
      "d:\\Anaconda3\\envs\\prmls_new\\lib\\site-packages\\sklearn\\tree\\tree.py:163: DeprecationWarning: `np.int` is a deprecated alias for the builtin `int`. To silence this warning, use `int` by itself. Doing this will not modify any behavior and is safe. When replacing `np.int`, you may wish to use e.g. `np.int64` or `np.int32` to specify the precision. If you wish to review your current use, check the release note link for additional information.\n",
      "Deprecated in NumPy 1.20; for more details and guidance: https://numpy.org/devdocs/release/1.20.0-notes.html#deprecations\n",
      "  y_encoded = np.zeros(y.shape, dtype=np.int)\n",
      "d:\\Anaconda3\\envs\\prmls_new\\lib\\site-packages\\sklearn\\ensemble\\base.py:158: DeprecationWarning: `np.int` is a deprecated alias for the builtin `int`. To silence this warning, use `int` by itself. Doing this will not modify any behavior and is safe. When replacing `np.int`, you may wish to use e.g. `np.int64` or `np.int32` to specify the precision. If you wish to review your current use, check the release note link for additional information.\n",
      "Deprecated in NumPy 1.20; for more details and guidance: https://numpy.org/devdocs/release/1.20.0-notes.html#deprecations\n",
      "  dtype=np.int)\n",
      "d:\\Anaconda3\\envs\\prmls_new\\lib\\site-packages\\sklearn\\utils\\fixes.py:223: DeprecationWarning: distutils Version classes are deprecated. Use packaging.version instead.\n",
      "  if _joblib.__version__ >= LooseVersion('0.12'):\n",
      "d:\\Anaconda3\\envs\\prmls_new\\lib\\site-packages\\sklearn\\metrics\\classification.py:1437: UndefinedMetricWarning: Precision and F-score are ill-defined and being set to 0.0 in labels with no predicted samples.\n",
      "  'precision', 'predicted', average, warn_for)\n",
      "d:\\Anaconda3\\envs\\prmls_new\\lib\\site-packages\\sklearn\\svm\\base.py:193: FutureWarning: The default value of gamma will change from 'auto' to 'scale' in version 0.22 to account better for unscaled features. Set gamma explicitly to 'auto' or 'scale' to avoid this warning.\n",
      "  \"avoid this warning.\", FutureWarning)\n"
     ]
    }
   ],
   "source": [
    "# Initialize classifiers\n",
    "classifiers = {\n",
    "    'Logistic Regression': LogisticRegression(max_iter=200),\n",
    "    'Random Forest': RandomForestClassifier(),\n",
    "    'SVM': SVC(),\n",
    "    'KNN': KNeighborsClassifier(),\n",
    "    'Naive Bayes': GaussianNB()\n",
    "}\n",
    "\n",
    "# Train\n",
    "results = {}\n",
    "for name, clf in classifiers.items():\n",
    "    # Fit the model\n",
    "    clf.fit(X_train, y_train)\n",
    "    \n",
    "    # Make predictions\n",
    "    y_pred = clf.predict(X_test)\n",
    "    \n",
    "    # Calculate accuracy\n",
    "    accuracy = accuracy_score(y_test, y_pred)\n",
    "    report = classification_report(y_test, y_pred)\n",
    "    confusion = confusion_matrix(y_test, y_pred)\n",
    "    results[name] = {'accuracy': accuracy, 'report': report, 'confusion_matrix': confusion}"
   ]
  },
  {
   "cell_type": "code",
   "execution_count": null,
   "id": "64cf8a75",
   "metadata": {},
   "outputs": [],
   "source": [
    "# Evaluate each classifier\n",
    "for name, result in results.items():\n",
    "    print(f\"Model: {name}\")\n",
    "    print(\"Accuracy:\", result['accuracy'])\n",
    "    print(\"Classification Report:\")\n",
    "    print(result['report'])\n",
    "    sns.heatmap(result['confusion_matrix'], annot=True, fmt=\"d\")\n",
    "    plt.title(f'Confusion Matrix for {name}')\n",
    "    plt.show()"
   ]
  }
 ],
 "metadata": {
  "kernelspec": {
   "display_name": "Python 3 (ipykernel)",
   "language": "python",
   "name": "python3"
  },
  "language_info": {
   "codemirror_mode": {
    "name": "ipython",
    "version": 3
   },
   "file_extension": ".py",
   "mimetype": "text/x-python",
   "name": "python",
   "nbconvert_exporter": "python",
   "pygments_lexer": "ipython3",
   "version": "3.7.16"
  }
 },
 "nbformat": 4,
 "nbformat_minor": 5
}
